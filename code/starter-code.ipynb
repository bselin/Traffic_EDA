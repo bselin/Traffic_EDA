{
 "cells": [
  {
   "cell_type": "markdown",
   "metadata": {},
   "source": [
    "# Project 1: Driving Licenses, Traffic Accidents and Casualties Analysis"
   ]
  },
  {
   "cell_type": "markdown",
   "metadata": {},
   "source": [
    "## Problem Statment\n",
    "\n",
    "Craft your problem statement here using the prompt from the README and other sources you find during your investigation."
   ]
  },
  {
   "cell_type": "markdown",
   "metadata": {},
   "source": [
    "Traffic accidents are one of the major problems in the Kingdom. Many initiatives have taken place in an effort to decrease the number of traffic accidents. New regulations were implemented in October 2016 which increased traffic fines, among other regulations. It is essencial to be able to analyse the effect of these initiatives in order to guide future initiatives. With the availability of data and the latest technical tools, statistical analysis could provide information that would be valuable for decision makers. "
   ]
  },
  {
   "cell_type": "markdown",
   "metadata": {},
   "source": [
    "## Executive Summary\n",
    "Write an executive summary that summarizes the problem and your key findings."
   ]
  },
  {
   "cell_type": "markdown",
   "metadata": {},
   "source": [
    "In this study, we look at two main datasets. The first is the number of traffic accidents, including number casualties injured and dead. The second is the number of Licenses issued every year. After cleaning and preparing the datasets, statistical analysis was applied to understand the distribution of each variable. The data was also plotted using different types of plots in order to compare the numbers across regions and across years. \n",
    "\n",
    "The analysis revealed that the number of licenses was increasing, therefore it is crucial to ensure that this increase is not coupled with an increase in the number of accidents. One of the key findings was that the number of accidents in Riyadh decreased between 2016 and 2017. This is probably due to the new traffic rules and fines that were implemented in October 2016. Therefore, the data suggests that these regulations were effective, and policy makers should continue to work in that direction. Another key finding is the increased number of accidents in the Makkah region. According to this research, the Jeddah-Makkah road is a common cause of increased accidents and casualties. Further investigation is needed to understand the traffic problem in Makkah and suggest the proper solution. "
   ]
  },
  {
   "cell_type": "markdown",
   "metadata": {},
   "source": [
    "### Contents:\n",
    "- [Datasets Description](#Datasets-Description)\n",
    "- [Data Import & Cleaning](#Data-Import-and-Cleaning)\n",
    "- [Exploratory Data Analysis](#Exploratory-Data-Analysis)\n",
    "- [Data Visualization](#Visualize-the-data)\n",
    "- [Descriptive and Inferential Statistics](#Descriptive-and-Inferential-Statistics)\n",
    "- [Outside Research](#Outside-Research)\n",
    "- [Conclusions and Recommendations](#Conclusions-and-Recommendations)"
   ]
  },
  {
   "cell_type": "markdown",
   "metadata": {},
   "source": [
    "**If you combine your problem statement, executive summary, data dictionary, and conclusions/recommendations, you have an amazing README.md file that quickly aligns your audience to the contents of your project.** Don't forget to cite your data sources!"
   ]
  },
  {
   "cell_type": "markdown",
   "metadata": {},
   "source": [
    "*All libraries used should be added here, including any Jupyter magic commands*"
   ]
  },
  {
   "cell_type": "code",
   "execution_count": 162,
   "metadata": {},
   "outputs": [],
   "source": [
    "#Imports\n",
    "import numpy as np\n",
    "import pandas as pd\n",
    "import seaborn as sns\n",
    "import matplotlib.pyplot as plt\n",
    "%matplotlib inline\n",
    "plt.style.use('fivethirtyeight')\n",
    "%matplotlib inline"
   ]
  },
  {
   "cell_type": "markdown",
   "metadata": {},
   "source": [
    "## Datasets Description\n",
    "\n",
    "[Driving Licenses](https://datasource.kapsarc.org/explore/dataset/saudi-arabia-driving-licenses-issued-in-the-kingdom-2004-2008/information/?disjunctive.administritive_area&sort=time_period&location=5,24.37495,45.08024&basemap=jawg.streets)\n",
    "This dataset contains Saudi Arabia Driving Licenses Issued By Administrative Area for 1993 - 2016. Data from General Authority for Statistics . Follow datasource.kapsarc.org for timely data to advance energy economics research.\n",
    "\n",
    "[Traffic Accidents and Casualties](https://datasource.kapsarc.org/explore/dataset/saudi-arabia-traffic-accidents-and-casualties-injured-dead-2008/export/?disjunctive.region&disjunctive.indicator&sort=time_period)\n",
    "This dataset contains Saudi Arabia Traffic Accidents and Casualties by Region for 2016. Data from General Authority for Statistics. Follow datasource.kapsarc.org for timely data to advance energy economics research.\n"
   ]
  },
  {
   "cell_type": "markdown",
   "metadata": {},
   "source": [
    "## Data Import and Cleaning"
   ]
  },
  {
   "cell_type": "markdown",
   "metadata": {},
   "source": [
    "#### 1. Read In Driving Licenses & Traffic Accidents Data\n",
    "Read in the `saudi-arabia-traffic-accidents-2008.csv` and `saudi-arabia-driving-licenses-2004-2008.csv` files and assign them to appropriately named pandas dataframes."
   ]
  },
  {
   "cell_type": "code",
   "execution_count": 163,
   "metadata": {},
   "outputs": [],
   "source": [
    "#Code\n",
    "traffic = pd.read_csv('../data/saudi-arabia-traffic-accidents-2008.csv',sep=';')\n",
    "license = pd.read_csv('../data/saudi-arabia-driving-licenses-2004-2008.csv',sep=';')"
   ]
  },
  {
   "cell_type": "markdown",
   "metadata": {},
   "source": [
    "#### 2. Display data\n",
    "\n",
    "Print the first 10 rows of each dataframe to your jupyter notebook"
   ]
  },
  {
   "cell_type": "code",
   "execution_count": 164,
   "metadata": {},
   "outputs": [
    {
     "data": {
      "text/html": [
       "<div>\n",
       "<style scoped>\n",
       "    .dataframe tbody tr th:only-of-type {\n",
       "        vertical-align: middle;\n",
       "    }\n",
       "\n",
       "    .dataframe tbody tr th {\n",
       "        vertical-align: top;\n",
       "    }\n",
       "\n",
       "    .dataframe thead th {\n",
       "        text-align: right;\n",
       "    }\n",
       "</style>\n",
       "<table border=\"1\" class=\"dataframe\">\n",
       "  <thead>\n",
       "    <tr style=\"text-align: right;\">\n",
       "      <th></th>\n",
       "      <th>Unnamed: 0</th>\n",
       "      <th>Unnamed: 0.1</th>\n",
       "      <th>Year</th>\n",
       "      <th>Region</th>\n",
       "      <th>Indicator</th>\n",
       "      <th>Value</th>\n",
       "      <th>geo_point_2d</th>\n",
       "    </tr>\n",
       "  </thead>\n",
       "  <tbody>\n",
       "    <tr>\n",
       "      <th>0</th>\n",
       "      <td>0</td>\n",
       "      <td>0</td>\n",
       "      <td>(2016)</td>\n",
       "      <td>Makkah</td>\n",
       "      <td>No. of Casualties - Injured</td>\n",
       "      <td>12383n</td>\n",
       "      <td>21.628962766, 41.2636898334</td>\n",
       "    </tr>\n",
       "    <tr>\n",
       "      <th>1</th>\n",
       "      <td>1</td>\n",
       "      <td>1</td>\n",
       "      <td>(2016)</td>\n",
       "      <td>Eastern Region</td>\n",
       "      <td>No. of Casualties - Dead</td>\n",
       "      <td>1113n</td>\n",
       "      <td>23.2883307307, 50.1478302439</td>\n",
       "    </tr>\n",
       "    <tr>\n",
       "      <th>2</th>\n",
       "      <td>2</td>\n",
       "      <td>2</td>\n",
       "      <td>(2016)</td>\n",
       "      <td>Tabouk</td>\n",
       "      <td>No. of Casualties - Dead</td>\n",
       "      <td>434n</td>\n",
       "      <td>27.90165499, 37.2598581394</td>\n",
       "    </tr>\n",
       "    <tr>\n",
       "      <th>3</th>\n",
       "      <td>3</td>\n",
       "      <td>3</td>\n",
       "      <td>(2016)</td>\n",
       "      <td>Hail</td>\n",
       "      <td>No. of Casualties - Dead</td>\n",
       "      <td>299n</td>\n",
       "      <td>27.400845724, 41.4406960508</td>\n",
       "    </tr>\n",
       "    <tr>\n",
       "      <th>4</th>\n",
       "      <td>4</td>\n",
       "      <td>4</td>\n",
       "      <td>(2016)</td>\n",
       "      <td>Hail</td>\n",
       "      <td>No. of Accidents</td>\n",
       "      <td>10199n</td>\n",
       "      <td>27.400845724, 41.4406960508</td>\n",
       "    </tr>\n",
       "  </tbody>\n",
       "</table>\n",
       "</div>"
      ],
      "text/plain": [
       "   Unnamed: 0  Unnamed: 0.1    Year          Region  \\\n",
       "0           0             0  (2016)          Makkah   \n",
       "1           1             1  (2016)  Eastern Region   \n",
       "2           2             2  (2016)          Tabouk   \n",
       "3           3             3  (2016)            Hail   \n",
       "4           4             4  (2016)            Hail   \n",
       "\n",
       "                     Indicator   Value                  geo_point_2d  \n",
       "0  No. of Casualties - Injured  12383n   21.628962766, 41.2636898334  \n",
       "1     No. of Casualties - Dead   1113n  23.2883307307, 50.1478302439  \n",
       "2     No. of Casualties - Dead    434n    27.90165499, 37.2598581394  \n",
       "3     No. of Casualties - Dead    299n   27.400845724, 41.4406960508  \n",
       "4             No. of Accidents  10199n   27.400845724, 41.4406960508  "
      ]
     },
     "execution_count": 164,
     "metadata": {},
     "output_type": "execute_result"
    }
   ],
   "source": [
    "#Code\n",
    "traffic.head()    # peeking into the data"
   ]
  },
  {
   "cell_type": "code",
   "execution_count": 165,
   "metadata": {},
   "outputs": [],
   "source": [
    "#traffic.iloc[40:50,:]   # peeking into the data"
   ]
  },
  {
   "cell_type": "code",
   "execution_count": 166,
   "metadata": {},
   "outputs": [
    {
     "name": "stdout",
     "output_type": "stream",
     "text": [
      "<class 'pandas.core.frame.DataFrame'>\n",
      "RangeIndex: 84 entries, 0 to 83\n",
      "Data columns (total 7 columns):\n",
      "Unnamed: 0      84 non-null int64\n",
      "Unnamed: 0.1    84 non-null int64\n",
      "Year            84 non-null object\n",
      "Region          84 non-null object\n",
      "Indicator       84 non-null object\n",
      "Value           84 non-null object\n",
      "geo_point_2d    78 non-null object\n",
      "dtypes: int64(2), object(5)\n",
      "memory usage: 4.7+ KB\n"
     ]
    }
   ],
   "source": [
    "traffic.info()"
   ]
  },
  {
   "cell_type": "code",
   "execution_count": 167,
   "metadata": {},
   "outputs": [
    {
     "data": {
      "text/plain": [
       "(array(['21.628962766, 41.2636898334', '23.2883307307, 50.1478302439',\n",
       "        '27.90165499, 37.2598581394', '27.400845724, 41.4406960508',\n",
       "        '30.197074783, 41.8171186952', '17.2072313962, 42.6525807422',\n",
       "        '29.9677445762, 39.5570371172', nan,\n",
       "        '20.1484058503, 41.4665484892', '23.0814341634, 45.5857512766',\n",
       "        '24.927534539, 39.4918237173', '26.1967063704, 43.3429998455',\n",
       "        '18.4511003068, 46.8688495726', '19.1387847401, 42.941470036'],\n",
       "       dtype=object), 14)"
      ]
     },
     "execution_count": 167,
     "metadata": {},
     "output_type": "execute_result"
    }
   ],
   "source": [
    "traffic.Region.unique()\n",
    "traffic.Indicator.unique()\n",
    "traffic.Region.unique().size, traffic.Indicator.unique().size\n",
    "traffic.geo_point_2d.unique(),traffic.geo_point_2d.unique().size"
   ]
  },
  {
   "cell_type": "code",
   "execution_count": 168,
   "metadata": {},
   "outputs": [
    {
     "name": "stdout",
     "output_type": "stream",
     "text": [
      "<class 'pandas.core.frame.DataFrame'>\n",
      "RangeIndex: 350 entries, 0 to 349\n",
      "Data columns (total 5 columns):\n",
      "Unnamed: 0             350 non-null int64\n",
      "Year                   350 non-null object\n",
      "Administritive Area    350 non-null object\n",
      "Driving Liceses        350 non-null object\n",
      "geo_point_2d           325 non-null object\n",
      "dtypes: int64(1), object(4)\n",
      "memory usage: 13.8+ KB\n"
     ]
    }
   ],
   "source": [
    "license.info()"
   ]
  },
  {
   "cell_type": "code",
   "execution_count": 169,
   "metadata": {},
   "outputs": [
    {
     "data": {
      "text/plain": [
       "(array(['21.628962766, 41.2636898334', '24.927534539, 39.4918237173',\n",
       "        '26.1967063704, 43.3429998455', '23.2883307307, 50.1478302439',\n",
       "        '19.1387847401, 42.941470036', '27.90165499, 37.2598581394',\n",
       "        '27.400845724, 41.4406960508', '30.197074783, 41.8171186952',\n",
       "        '17.2072313962, 42.6525807422', '18.4511003068, 46.8688495726',\n",
       "        '20.1484058503, 41.4665484892', '29.9677445762, 39.5570371172',\n",
       "        nan, '23.0814341634, 45.5857512766'], dtype=object), 14)"
      ]
     },
     "execution_count": 169,
     "metadata": {},
     "output_type": "execute_result"
    }
   ],
   "source": [
    "## investigating the data ....\n",
    "\n",
    "traffic.Region.unique()\n",
    "license['Administritive Area'].unique()\n",
    "traffic.Year.unique(), traffic.Year.unique().size\n",
    "license.Year.unique(), license.Year.unique().size\n",
    "license.geo_point_2d.unique(),license.geo_point_2d.unique().size"
   ]
  },
  {
   "cell_type": "markdown",
   "metadata": {},
   "source": [
    "#### 3. Briefly describe the data\n",
    "\n",
    "Take your time looking through the data and briefly describe the data in the markdown cell below. Note things about what the columns might mean, and the general information that is conveyed in the dataframe."
   ]
  },
  {
   "cell_type": "markdown",
   "metadata": {},
   "source": [
    "Answer:\n",
    "The Traffic data contains 84 observations of different traffic data per region in Saudi Arabia. There are initially 7 columns/variables per observation: region, year, indicator, geopoint, value (although not initially clear what is meant by value), and two more columns which only contain numbers that correspont to the index value. \n",
    "The License data contains 350 entries of Driving Licenses, with 5 columns/variables. The variables availabe for each observation are the year, Administrative Area (corresponds to Region in the Traffic Dataset), License numbers, and geopoints. There is one more column which contains numbers that correspond to the index value. "
   ]
  },
  {
   "cell_type": "markdown",
   "metadata": {},
   "source": [
    "#### 4a. How complete is the data?\n",
    "\n",
    "Investigate missing values etc."
   ]
  },
  {
   "cell_type": "code",
   "execution_count": 170,
   "metadata": {},
   "outputs": [
    {
     "data": {
      "text/plain": [
       "Unnamed: 0      0\n",
       "Unnamed: 0.1    0\n",
       "Year            0\n",
       "Region          0\n",
       "Indicator       0\n",
       "Value           0\n",
       "geo_point_2d    6\n",
       "dtype: int64"
      ]
     },
     "execution_count": 170,
     "metadata": {},
     "output_type": "execute_result"
    }
   ],
   "source": [
    "#Code\n",
    "traffic.isna().sum()  \n",
    "# there are 6 missing entries only "
   ]
  },
  {
   "cell_type": "code",
   "execution_count": 171,
   "metadata": {},
   "outputs": [
    {
     "data": {
      "text/html": [
       "<div>\n",
       "<style scoped>\n",
       "    .dataframe tbody tr th:only-of-type {\n",
       "        vertical-align: middle;\n",
       "    }\n",
       "\n",
       "    .dataframe tbody tr th {\n",
       "        vertical-align: top;\n",
       "    }\n",
       "\n",
       "    .dataframe thead th {\n",
       "        text-align: right;\n",
       "    }\n",
       "</style>\n",
       "<table border=\"1\" class=\"dataframe\">\n",
       "  <thead>\n",
       "    <tr style=\"text-align: right;\">\n",
       "      <th></th>\n",
       "      <th>Unnamed: 0</th>\n",
       "      <th>Unnamed: 0.1</th>\n",
       "      <th>Year</th>\n",
       "      <th>Region</th>\n",
       "      <th>Indicator</th>\n",
       "      <th>Value</th>\n",
       "      <th>geo_point_2d</th>\n",
       "    </tr>\n",
       "  </thead>\n",
       "  <tbody>\n",
       "    <tr>\n",
       "      <th>8</th>\n",
       "      <td>8</td>\n",
       "      <td>8</td>\n",
       "      <td>(2017)</td>\n",
       "      <td>Total</td>\n",
       "      <td>No. of Casualties - Dead</td>\n",
       "      <td>7489n</td>\n",
       "      <td>NaN</td>\n",
       "    </tr>\n",
       "    <tr>\n",
       "      <th>29</th>\n",
       "      <td>29</td>\n",
       "      <td>29</td>\n",
       "      <td>(2016)</td>\n",
       "      <td>Total</td>\n",
       "      <td>No. of Accidents</td>\n",
       "      <td>533380n</td>\n",
       "      <td>NaN</td>\n",
       "    </tr>\n",
       "    <tr>\n",
       "      <th>30</th>\n",
       "      <td>30</td>\n",
       "      <td>30</td>\n",
       "      <td>(2016)</td>\n",
       "      <td>Total</td>\n",
       "      <td>No. of Casualties - Injured</td>\n",
       "      <td>38120n</td>\n",
       "      <td>NaN</td>\n",
       "    </tr>\n",
       "    <tr>\n",
       "      <th>68</th>\n",
       "      <td>68</td>\n",
       "      <td>68</td>\n",
       "      <td>(2017)</td>\n",
       "      <td>Total</td>\n",
       "      <td>No. of Accidents</td>\n",
       "      <td>460488n</td>\n",
       "      <td>NaN</td>\n",
       "    </tr>\n",
       "    <tr>\n",
       "      <th>69</th>\n",
       "      <td>69</td>\n",
       "      <td>69</td>\n",
       "      <td>(2017)</td>\n",
       "      <td>Total</td>\n",
       "      <td>No. of Casualties - Injured</td>\n",
       "      <td>33199n</td>\n",
       "      <td>NaN</td>\n",
       "    </tr>\n",
       "    <tr>\n",
       "      <th>77</th>\n",
       "      <td>77</td>\n",
       "      <td>77</td>\n",
       "      <td>(2016)</td>\n",
       "      <td>Total</td>\n",
       "      <td>No. of Casualties - Dead</td>\n",
       "      <td>9031n</td>\n",
       "      <td>NaN</td>\n",
       "    </tr>\n",
       "  </tbody>\n",
       "</table>\n",
       "</div>"
      ],
      "text/plain": [
       "    Unnamed: 0  Unnamed: 0.1    Year Region                    Indicator  \\\n",
       "8            8             8  (2017)  Total     No. of Casualties - Dead   \n",
       "29          29            29  (2016)  Total             No. of Accidents   \n",
       "30          30            30  (2016)  Total  No. of Casualties - Injured   \n",
       "68          68            68  (2017)  Total             No. of Accidents   \n",
       "69          69            69  (2017)  Total  No. of Casualties - Injured   \n",
       "77          77            77  (2016)  Total     No. of Casualties - Dead   \n",
       "\n",
       "      Value geo_point_2d  \n",
       "8     7489n          NaN  \n",
       "29  533380n          NaN  \n",
       "30   38120n          NaN  \n",
       "68  460488n          NaN  \n",
       "69   33199n          NaN  \n",
       "77    9031n          NaN  "
      ]
     },
     "execution_count": 171,
     "metadata": {},
     "output_type": "execute_result"
    }
   ],
   "source": [
    "# all in the geo_point_2d column \n",
    "# all corresponding to the Region \"Total\", which makes sense .. \n",
    "traffic[traffic['Region']=='Total']"
   ]
  },
  {
   "cell_type": "code",
   "execution_count": 172,
   "metadata": {},
   "outputs": [
    {
     "data": {
      "text/plain": [
       "Unnamed: 0              0\n",
       "Year                    0\n",
       "Administritive Area     0\n",
       "Driving Liceses         0\n",
       "geo_point_2d           25\n",
       "dtype: int64"
      ]
     },
     "execution_count": 172,
     "metadata": {},
     "output_type": "execute_result"
    }
   ],
   "source": [
    "license.isna().sum() \n",
    "# there are 25 missing entries only"
   ]
  },
  {
   "cell_type": "code",
   "execution_count": 173,
   "metadata": {},
   "outputs": [
    {
     "data": {
      "text/html": [
       "<div>\n",
       "<style scoped>\n",
       "    .dataframe tbody tr th:only-of-type {\n",
       "        vertical-align: middle;\n",
       "    }\n",
       "\n",
       "    .dataframe tbody tr th {\n",
       "        vertical-align: top;\n",
       "    }\n",
       "\n",
       "    .dataframe thead th {\n",
       "        text-align: right;\n",
       "    }\n",
       "</style>\n",
       "<table border=\"1\" class=\"dataframe\">\n",
       "  <thead>\n",
       "    <tr style=\"text-align: right;\">\n",
       "      <th></th>\n",
       "      <th>Unnamed: 0</th>\n",
       "      <th>Year</th>\n",
       "      <th>Administritive Area</th>\n",
       "      <th>Driving Liceses</th>\n",
       "      <th>geo_point_2d</th>\n",
       "    </tr>\n",
       "  </thead>\n",
       "  <tbody>\n",
       "    <tr>\n",
       "      <th>58</th>\n",
       "      <td>58</td>\n",
       "      <td>(2015)</td>\n",
       "      <td>Total</td>\n",
       "      <td>435439n</td>\n",
       "      <td>NaN</td>\n",
       "    </tr>\n",
       "    <tr>\n",
       "      <th>59</th>\n",
       "      <td>59</td>\n",
       "      <td>(2017)</td>\n",
       "      <td>Total</td>\n",
       "      <td>928165n</td>\n",
       "      <td>NaN</td>\n",
       "    </tr>\n",
       "    <tr>\n",
       "      <th>60</th>\n",
       "      <td>60</td>\n",
       "      <td>(1993)</td>\n",
       "      <td>Total</td>\n",
       "      <td>294893n</td>\n",
       "      <td>NaN</td>\n",
       "    </tr>\n",
       "    <tr>\n",
       "      <th>61</th>\n",
       "      <td>61</td>\n",
       "      <td>(1994)</td>\n",
       "      <td>Total</td>\n",
       "      <td>303520n</td>\n",
       "      <td>NaN</td>\n",
       "    </tr>\n",
       "    <tr>\n",
       "      <th>62</th>\n",
       "      <td>62</td>\n",
       "      <td>(2003)</td>\n",
       "      <td>Total</td>\n",
       "      <td>254858n</td>\n",
       "      <td>NaN</td>\n",
       "    </tr>\n",
       "    <tr>\n",
       "      <th>63</th>\n",
       "      <td>63</td>\n",
       "      <td>(2006)</td>\n",
       "      <td>Total</td>\n",
       "      <td>267508n</td>\n",
       "      <td>NaN</td>\n",
       "    </tr>\n",
       "    <tr>\n",
       "      <th>142</th>\n",
       "      <td>142</td>\n",
       "      <td>(2014)</td>\n",
       "      <td>Total</td>\n",
       "      <td>625414n</td>\n",
       "      <td>NaN</td>\n",
       "    </tr>\n",
       "    <tr>\n",
       "      <th>143</th>\n",
       "      <td>143</td>\n",
       "      <td>(2010)</td>\n",
       "      <td>Total</td>\n",
       "      <td>386510n</td>\n",
       "      <td>NaN</td>\n",
       "    </tr>\n",
       "    <tr>\n",
       "      <th>144</th>\n",
       "      <td>144</td>\n",
       "      <td>(2012)</td>\n",
       "      <td>Total</td>\n",
       "      <td>411204n</td>\n",
       "      <td>NaN</td>\n",
       "    </tr>\n",
       "    <tr>\n",
       "      <th>145</th>\n",
       "      <td>145</td>\n",
       "      <td>(1999)</td>\n",
       "      <td>Total</td>\n",
       "      <td>332210n</td>\n",
       "      <td>NaN</td>\n",
       "    </tr>\n",
       "    <tr>\n",
       "      <th>146</th>\n",
       "      <td>146</td>\n",
       "      <td>(2002)</td>\n",
       "      <td>Total</td>\n",
       "      <td>282038n</td>\n",
       "      <td>NaN</td>\n",
       "    </tr>\n",
       "    <tr>\n",
       "      <th>147</th>\n",
       "      <td>147</td>\n",
       "      <td>(2001)</td>\n",
       "      <td>Total</td>\n",
       "      <td>264725n</td>\n",
       "      <td>NaN</td>\n",
       "    </tr>\n",
       "    <tr>\n",
       "      <th>148</th>\n",
       "      <td>148</td>\n",
       "      <td>(2004)</td>\n",
       "      <td>Total</td>\n",
       "      <td>268738n</td>\n",
       "      <td>NaN</td>\n",
       "    </tr>\n",
       "    <tr>\n",
       "      <th>149</th>\n",
       "      <td>149</td>\n",
       "      <td>(2005)</td>\n",
       "      <td>Total</td>\n",
       "      <td>251203n</td>\n",
       "      <td>NaN</td>\n",
       "    </tr>\n",
       "    <tr>\n",
       "      <th>150</th>\n",
       "      <td>150</td>\n",
       "      <td>(2009)</td>\n",
       "      <td>Total</td>\n",
       "      <td>376275n</td>\n",
       "      <td>NaN</td>\n",
       "    </tr>\n",
       "    <tr>\n",
       "      <th>162</th>\n",
       "      <td>162</td>\n",
       "      <td>(2011)</td>\n",
       "      <td>Total</td>\n",
       "      <td>400558n</td>\n",
       "      <td>NaN</td>\n",
       "    </tr>\n",
       "    <tr>\n",
       "      <th>163</th>\n",
       "      <td>163</td>\n",
       "      <td>(2000)</td>\n",
       "      <td>Total</td>\n",
       "      <td>273238n</td>\n",
       "      <td>NaN</td>\n",
       "    </tr>\n",
       "    <tr>\n",
       "      <th>164</th>\n",
       "      <td>164</td>\n",
       "      <td>(2007)</td>\n",
       "      <td>Total</td>\n",
       "      <td>331356n</td>\n",
       "      <td>NaN</td>\n",
       "    </tr>\n",
       "    <tr>\n",
       "      <th>165</th>\n",
       "      <td>165</td>\n",
       "      <td>(2008)</td>\n",
       "      <td>Total</td>\n",
       "      <td>330158n</td>\n",
       "      <td>NaN</td>\n",
       "    </tr>\n",
       "    <tr>\n",
       "      <th>239</th>\n",
       "      <td>239</td>\n",
       "      <td>(2013)</td>\n",
       "      <td>Total</td>\n",
       "      <td>565314n</td>\n",
       "      <td>NaN</td>\n",
       "    </tr>\n",
       "    <tr>\n",
       "      <th>240</th>\n",
       "      <td>240</td>\n",
       "      <td>(1995)</td>\n",
       "      <td>Total</td>\n",
       "      <td>251878n</td>\n",
       "      <td>NaN</td>\n",
       "    </tr>\n",
       "    <tr>\n",
       "      <th>314</th>\n",
       "      <td>314</td>\n",
       "      <td>(2016)</td>\n",
       "      <td>Total</td>\n",
       "      <td>697017n</td>\n",
       "      <td>NaN</td>\n",
       "    </tr>\n",
       "    <tr>\n",
       "      <th>315</th>\n",
       "      <td>315</td>\n",
       "      <td>(1997)</td>\n",
       "      <td>Total</td>\n",
       "      <td>289296n</td>\n",
       "      <td>NaN</td>\n",
       "    </tr>\n",
       "    <tr>\n",
       "      <th>316</th>\n",
       "      <td>316</td>\n",
       "      <td>(1996)</td>\n",
       "      <td>Total</td>\n",
       "      <td>237623n</td>\n",
       "      <td>NaN</td>\n",
       "    </tr>\n",
       "    <tr>\n",
       "      <th>317</th>\n",
       "      <td>317</td>\n",
       "      <td>(1998)</td>\n",
       "      <td>Total</td>\n",
       "      <td>338350n</td>\n",
       "      <td>NaN</td>\n",
       "    </tr>\n",
       "  </tbody>\n",
       "</table>\n",
       "</div>"
      ],
      "text/plain": [
       "     Unnamed: 0    Year Administritive Area Driving Liceses geo_point_2d\n",
       "58           58  (2015)               Total         435439n          NaN\n",
       "59           59  (2017)               Total         928165n          NaN\n",
       "60           60  (1993)               Total         294893n          NaN\n",
       "61           61  (1994)               Total         303520n          NaN\n",
       "62           62  (2003)               Total         254858n          NaN\n",
       "63           63  (2006)               Total         267508n          NaN\n",
       "142         142  (2014)               Total         625414n          NaN\n",
       "143         143  (2010)               Total         386510n          NaN\n",
       "144         144  (2012)               Total         411204n          NaN\n",
       "145         145  (1999)               Total         332210n          NaN\n",
       "146         146  (2002)               Total         282038n          NaN\n",
       "147         147  (2001)               Total         264725n          NaN\n",
       "148         148  (2004)               Total         268738n          NaN\n",
       "149         149  (2005)               Total         251203n          NaN\n",
       "150         150  (2009)               Total         376275n          NaN\n",
       "162         162  (2011)               Total         400558n          NaN\n",
       "163         163  (2000)               Total         273238n          NaN\n",
       "164         164  (2007)               Total         331356n          NaN\n",
       "165         165  (2008)               Total         330158n          NaN\n",
       "239         239  (2013)               Total         565314n          NaN\n",
       "240         240  (1995)               Total         251878n          NaN\n",
       "314         314  (2016)               Total         697017n          NaN\n",
       "315         315  (1997)               Total         289296n          NaN\n",
       "316         316  (1996)               Total         237623n          NaN\n",
       "317         317  (1998)               Total         338350n          NaN"
      ]
     },
     "execution_count": 173,
     "metadata": {},
     "output_type": "execute_result"
    }
   ],
   "source": [
    "# all in the geo_point_2d column\n",
    "# all corresponding to the Region \"Total\", which makes sense ..\n",
    "license[license['Administritive Area']=='Total']"
   ]
  },
  {
   "cell_type": "code",
   "execution_count": 174,
   "metadata": {},
   "outputs": [
    {
     "data": {
      "text/plain": [
       "(14, 14)"
      ]
     },
     "execution_count": 174,
     "metadata": {},
     "output_type": "execute_result"
    }
   ],
   "source": [
    "# it seems that the x and y coordinates correspond to the regions in both dataframes..\n",
    "# this can be observed by finding the number of unique values and randomly skimming through the dataset\n",
    "len(traffic['Region'].unique()), len(traffic['geo_point_2d'].unique())"
   ]
  },
  {
   "cell_type": "code",
   "execution_count": 175,
   "metadata": {},
   "outputs": [
    {
     "data": {
      "text/plain": [
       "(14, 14)"
      ]
     },
     "execution_count": 175,
     "metadata": {},
     "output_type": "execute_result"
    }
   ],
   "source": [
    "len(license['Administritive Area'].unique()), len(license['geo_point_2d'].unique())"
   ]
  },
  {
   "cell_type": "code",
   "execution_count": 176,
   "metadata": {},
   "outputs": [
    {
     "data": {
      "text/plain": [
       "array(['Makkah', 'Eastern Region', 'Tabouk', 'Hail', 'Northern Boarder',\n",
       "       'Jazan', 'Al-Jouf', 'Total', 'Al-Baaha', 'Riyadh', 'Madinah',\n",
       "       'Qassim', 'Najran', 'Asir'], dtype=object)"
      ]
     },
     "execution_count": 176,
     "metadata": {},
     "output_type": "execute_result"
    }
   ],
   "source": [
    "traffic['Region'].unique()"
   ]
  },
  {
   "cell_type": "code",
   "execution_count": 177,
   "metadata": {},
   "outputs": [
    {
     "data": {
      "text/plain": [
       "array(['Makkah', 'Madinah', 'Al-Qaseem', 'Eastern', 'Assir', 'Tabouk',\n",
       "       'Hail', 'Northern Boarder', 'Jazan', 'Najran', 'Al-Baha',\n",
       "       'Al-Jouf', 'Total', 'Riyadh'], dtype=object)"
      ]
     },
     "execution_count": 177,
     "metadata": {},
     "output_type": "execute_result"
    }
   ],
   "source": [
    "license['Administritive Area'].unique()"
   ]
  },
  {
   "cell_type": "markdown",
   "metadata": {},
   "source": [
    "#### 4b. Are there any obvious issues with the observations?\n",
    "\n",
    "**What is the minimum *possible* value for each dataset? What is the maximum *possible* value?**\n",
    "\n",
    "The results of the summary statistics here are not helpful becasue the column is still an Object, its not numeric yet."
   ]
  },
  {
   "cell_type": "code",
   "execution_count": 178,
   "metadata": {},
   "outputs": [
    {
     "data": {
      "text/plain": [
       "('1007n', '99925n')"
      ]
     },
     "execution_count": 178,
     "metadata": {},
     "output_type": "execute_result"
    }
   ],
   "source": [
    "#Code\n",
    "traffic.Value.min() , traffic.Value.max()"
   ]
  },
  {
   "cell_type": "code",
   "execution_count": 179,
   "metadata": {},
   "outputs": [],
   "source": [
    "#traffic.describe()    # display summary statisctics "
   ]
  },
  {
   "cell_type": "code",
   "execution_count": 180,
   "metadata": {},
   "outputs": [],
   "source": [
    "#license.describe()    # display summary statisctics "
   ]
  },
  {
   "cell_type": "markdown",
   "metadata": {},
   "source": [
    "#### 5. What are your data types? \n",
    "Display the data types of each feature. "
   ]
  },
  {
   "cell_type": "code",
   "execution_count": 181,
   "metadata": {
    "scrolled": true
   },
   "outputs": [
    {
     "data": {
      "text/plain": [
       "Unnamed: 0       int64\n",
       "Unnamed: 0.1     int64\n",
       "Year            object\n",
       "Region          object\n",
       "Indicator       object\n",
       "Value           object\n",
       "geo_point_2d    object\n",
       "dtype: object"
      ]
     },
     "execution_count": 181,
     "metadata": {},
     "output_type": "execute_result"
    }
   ],
   "source": [
    "#code\n",
    "traffic.dtypes"
   ]
  },
  {
   "cell_type": "code",
   "execution_count": 182,
   "metadata": {},
   "outputs": [
    {
     "data": {
      "text/plain": [
       "Unnamed: 0              int64\n",
       "Year                   object\n",
       "Administritive Area    object\n",
       "Driving Liceses        object\n",
       "geo_point_2d           object\n",
       "dtype: object"
      ]
     },
     "execution_count": 182,
     "metadata": {},
     "output_type": "execute_result"
    }
   ],
   "source": [
    "license.dtypes"
   ]
  },
  {
   "cell_type": "markdown",
   "metadata": {},
   "source": [
    "What did you learn?\n",
    "- Do any of them seem odd?  \n",
    "- Which ones are not as they should be?  "
   ]
  },
  {
   "cell_type": "markdown",
   "metadata": {},
   "source": [
    "Answer:\n",
    "\n",
    "--reseting data types-\n",
    "All data types are of type \"Object\". \n",
    "We need to transform \"Year\" into an integer.\n",
    "\n",
    "--renaming columns--\n",
    "Region and Administritive Area actually represent the same data, but they have different names in each dataframe and the regions are also spelled differently among the two dataframes.\n",
    "\n",
    "--Cleaning some Data--\n",
    "The columns \"Traffic.Driving Liceses\" and \"License.Value\"  contain letter \"n\". \n",
    "Traffic.Year is wraped in brackets. \n",
    "Both cases do not make sense and should be cleaned.\n",
    "\n",
    "--splitting columns--\n",
    "The geo_point_2d column would be more efficient if we split it into two columns.\n",
    "\n",
    "--Unstacking Columns--\n",
    "The column Indicator actually indicates three types of traffic accidents:\n",
    "    No. of Casualties - Injured \n",
    "    No. of Casualties - Dead\n",
    "    No. of Accidents\n",
    "and the column value contains the corresponding value.\n",
    "\"Indicator\" would make much more sense if it was unstacked to three columns.\n",
    "\n",
    "--Removing unnecessary columns--\n",
    "the columns \"Unnamed: 0\" and \"Unnamed: 0.1\"  in the Traffic Dataframe are meaningless in their names and values. They only contain integers that correspond to the index. The same goes for the column \"Unnamed: 0\" in the License dataframe. \n",
    "\n",
    "--Removing unnecessary rows--\n",
    "Entries that correspond to totals should be removed from the dataframe because they are not really observations of what we are investigating (i.e. num of licenses issued and num of traffic accidents), rather they represent a summary for other entries. "
   ]
  },
  {
   "cell_type": "markdown",
   "metadata": {},
   "source": [
    "#### 6. Fix incorrect data types\n",
    "Based on what you discovered above, use appropriate methods to re-type incorrectly typed data.\n",
    "- Define a function that will allow you to convert numerical columns to an appropriate numeric type. Use `map` or `apply` to change these columns in each dataframe."
   ]
  },
  {
   "cell_type": "code",
   "execution_count": 183,
   "metadata": {},
   "outputs": [],
   "source": [
    "#code\n",
    "traffic.Year = traffic.Year.map(lambda x: x.replace('(',''))\n",
    "traffic.Year = traffic.Year.map(lambda x: x.replace(')',''))\n",
    "\n",
    "license.Year = license.Year.map(lambda x: x.replace('(',''))\n",
    "license.Year = license.Year.map(lambda x: x.replace(')',''))"
   ]
  },
  {
   "cell_type": "code",
   "execution_count": 184,
   "metadata": {},
   "outputs": [],
   "source": [
    "traffic.Year = pd.to_numeric(traffic.Year)\n",
    "license.Year = pd.to_numeric(license.Year)"
   ]
  },
  {
   "cell_type": "markdown",
   "metadata": {},
   "source": [
    "- Make new columns `x` and `y` using `geo_point_2d`"
   ]
  },
  {
   "cell_type": "code",
   "execution_count": 185,
   "metadata": {},
   "outputs": [],
   "source": [
    "#code\n",
    "traffic[['x','y']] = traffic.geo_point_2d.str.split(',',expand= True)        \n",
    "license[['x','y']] = license.geo_point_2d.str.split(',',expand= True) "
   ]
  },
  {
   "cell_type": "code",
   "execution_count": 186,
   "metadata": {},
   "outputs": [],
   "source": [
    "traffic['x'] = pd.to_numeric(traffic['x'])\n",
    "traffic['y'] = pd.to_numeric(traffic['y'])\n",
    "license['x'] = pd.to_numeric(license['x'])\n",
    "license['y'] = pd.to_numeric(license['y'])"
   ]
  },
  {
   "cell_type": "markdown",
   "metadata": {},
   "source": [
    "- Fix any individual values preventing other columns from being the appropriate type."
   ]
  },
  {
   "cell_type": "code",
   "execution_count": 187,
   "metadata": {},
   "outputs": [],
   "source": [
    "#code\n",
    "license['Driving Liceses'] = license['Driving Liceses'].map(lambda lcns : lcns.replace('n',''))\n",
    "license['Driving Liceses'] = pd.to_numeric(license['Driving Liceses'])\n",
    "\n",
    "traffic['Value'] = traffic['Value'].map(lambda lcns : lcns.replace('n',''))\n",
    "traffic['Value'] = pd.to_numeric(traffic['Value'])"
   ]
  },
  {
   "cell_type": "markdown",
   "metadata": {},
   "source": [
    "- Finish your data modifications by making sure the columns are now typed appropriately."
   ]
  },
  {
   "cell_type": "code",
   "execution_count": 188,
   "metadata": {},
   "outputs": [],
   "source": [
    "#code\n",
    "# in this step, we are removing the columns Unnamed: 0 and Unnamed: 0.1 from Traffic, \n",
    "# and Unnamed: 0 from License\n",
    "license = license[['Year', 'Administritive Area', 'Driving Liceses','x', 'y']]\n",
    "traffic = traffic[['Year', 'Region', 'Indicator','Value','x','y']]"
   ]
  },
  {
   "cell_type": "markdown",
   "metadata": {},
   "source": [
    "- Display the data types again to confirm they are correct."
   ]
  },
  {
   "cell_type": "code",
   "execution_count": 189,
   "metadata": {},
   "outputs": [
    {
     "data": {
      "text/plain": [
       "Year           int64\n",
       "Region        object\n",
       "Indicator     object\n",
       "Value          int64\n",
       "x            float64\n",
       "y            float64\n",
       "dtype: object"
      ]
     },
     "execution_count": 189,
     "metadata": {},
     "output_type": "execute_result"
    }
   ],
   "source": [
    "#Code:\n",
    "traffic.dtypes"
   ]
  },
  {
   "cell_type": "code",
   "execution_count": 190,
   "metadata": {},
   "outputs": [
    {
     "data": {
      "text/plain": [
       "Year                     int64\n",
       "Administritive Area     object\n",
       "Driving Liceses          int64\n",
       "x                      float64\n",
       "y                      float64\n",
       "dtype: object"
      ]
     },
     "execution_count": 190,
     "metadata": {},
     "output_type": "execute_result"
    }
   ],
   "source": [
    "license.dtypes"
   ]
  },
  {
   "cell_type": "markdown",
   "metadata": {},
   "source": [
    "#### 7. Rename columns\n",
    "Change the names of the columns to more expressive names so that you can tell the difference the Driving Licenses  columns and the & Traffic Accidents columns. Your solution should map all column names being changed at once (no repeated singular name-changes). **We will be combining these two datasets, and so you should name columns in an appropriate way**.\n",
    "\n",
    "**Guidelines**:\n",
    "- Column names should be all lowercase (you will thank yourself when you start pushing data to SQL later in the course)\n",
    "- Column names should not contain spaces (underscores will suffice--this allows for using the `df.column_name` method to access columns in addition to `df['column_name']`.\n",
    "- Column names should be unique and informative (the only feature that we actually share between dataframes is the state).\n",
    "- Please also fix any typos you see in the column names."
   ]
  },
  {
   "cell_type": "code",
   "execution_count": 191,
   "metadata": {},
   "outputs": [],
   "source": [
    "# a solution that maps all column names being changed at once\n",
    "traffic.columns = traffic.columns.map(lambda x: x.lower())\n",
    "license.columns = license.columns.map(lambda x: x.lower())\n",
    "license.columns = license.columns.map(lambda x: x.replace(' ','_'))"
   ]
  },
  {
   "cell_type": "code",
   "execution_count": 192,
   "metadata": {},
   "outputs": [],
   "source": [
    "# Individual renaming of certain columns ..\n",
    "# choosing descriptive names and fixing typos\n",
    "\n",
    "traffic.rename(columns={'value':'num_of_traffic_accidents','indicator':'traffic_accident_indicator','x':'x_coordinate','y':'y_coordinate'}, inplace=True)\n",
    "license.rename(columns={'administritive_area': 'region','driving_liceses':'num_of_licenses','x':'x_coordinate','y':'y_coordinate'}, inplace=True)"
   ]
  },
  {
   "cell_type": "markdown",
   "metadata": {},
   "source": [
    "#### 8. Create a data dictionary\n",
    "\n",
    "Now that we've fixed our data, and given it appropriate names, let's create a [data dictionary](http://library.ucmerced.edu/node/10249). \n",
    "\n",
    "A data dictionary provides a quick overview of features/variables/columns, alongside data types and descriptions. The more descriptive you can be, the more useful this document is.\n",
    "\n",
    "Example of a Fictional Data Dictionary Entry: \n",
    "\n",
    "|Feature|Type|Dataset|Description|\n",
    "|---|---|---|---|\n",
    "|**county_pop**|*integer*|2010 census|The population of the county (units in thousands, where 2.5 represents 2500 people).| \n",
    "|**per_poverty**|*float*|2010 census|The percent of the county over the age of 18 living below the 200% of official US poverty rate (units percent to two decimal places 98.10 means 98.1%)|\n",
    "\n",
    "[Here's a quick link to a short guide for formatting markdown in Jupyter notebooks](https://jupyter-notebook.readthedocs.io/en/stable/examples/Notebook/Working%20With%20Markdown%20Cells.html).\n",
    "\n",
    "Provided is the skeleton for formatting a markdown table, with columns headers that will help you create a data dictionary to quickly summarize your data, as well as some examples. **This would be a great thing to copy and paste into your custom README for this project.**"
   ]
  },
  {
   "cell_type": "markdown",
   "metadata": {},
   "source": [
    "|Feature|Type|Dataset|Description|\n",
    "|---|---|---|---|\n",
    "|year|integer|Traffic Accidents|Year at which number of issued driving licences| \n",
    "|region|object|Traffic Accidents|Driving licences origin of issuance| \n",
    "|number_of_traffic_accidents|integer|Traffic Accidents|the number of traffic accidents per year and region| \n",
    "|num_of_casualties_dead|integer|Traffic Accidents|the number of casualties dead by car accidents per year and region| \n",
    "|num_of_casualties_injured|integer|Traffic Accidents|the number of casualties injured by car accidents per year and region| \n",
    "\n",
    "\n",
    "|Feature|Type|Dataset|Description|\n",
    "|---|---|---|---|\n",
    "|year|integer|Driving Licences|Year at which number of issued driving licences| \n",
    "|region|object|Driving Licences|Driving licences origin of issuance| \n",
    "|num_of_licenses|int|Driving Licences|Number of issued driving licences per year and region| \n",
    "\n",
    "\n",
    "\n",
    "\n"
   ]
  },
  {
   "cell_type": "markdown",
   "metadata": {},
   "source": [
    "#### 9. Drop unnecessary rows\n",
    "\n",
    "This study concerns accident and license in regions/area. Please do the followings:\n",
    "0. Which rows are not associated with regions? \n",
    "            ANSWER: rows that correspond to a Total rather than a region\n",
    "1. Confirm the numbers of all regions add up to total.  \n",
    "        \n",
    "2. Remove the rows that are not associated with regions"
   ]
  },
  {
   "cell_type": "code",
   "execution_count": 193,
   "metadata": {},
   "outputs": [
    {
     "data": {
      "text/plain": [
       "580531"
      ]
     },
     "execution_count": 193,
     "metadata": {},
     "output_type": "execute_result"
    }
   ],
   "source": [
    "# 1. Confirm the numbers of all regions add up to total.  \n",
    "traffic[(traffic['region']!='Total')&(traffic['year']==2016)]['num_of_traffic_accidents'].sum()"
   ]
  },
  {
   "cell_type": "code",
   "execution_count": 194,
   "metadata": {},
   "outputs": [
    {
     "data": {
      "text/plain": [
       "580531"
      ]
     },
     "execution_count": 194,
     "metadata": {},
     "output_type": "execute_result"
    }
   ],
   "source": [
    "traffic[(traffic['region']=='Total')&(traffic['year']==2016)]['num_of_traffic_accidents'].sum()"
   ]
  },
  {
   "cell_type": "code",
   "execution_count": 195,
   "metadata": {},
   "outputs": [
    {
     "data": {
      "text/plain": [
       "501176"
      ]
     },
     "execution_count": 195,
     "metadata": {},
     "output_type": "execute_result"
    }
   ],
   "source": [
    "traffic[(traffic['region']!='Total')&(traffic['year']==2017)]['num_of_traffic_accidents'].sum()"
   ]
  },
  {
   "cell_type": "code",
   "execution_count": 196,
   "metadata": {},
   "outputs": [
    {
     "data": {
      "text/plain": [
       "501176"
      ]
     },
     "execution_count": 196,
     "metadata": {},
     "output_type": "execute_result"
    }
   ],
   "source": [
    "traffic[(traffic['region']!='Total')&(traffic['year']==2017)]['num_of_traffic_accidents'].sum()"
   ]
  },
  {
   "cell_type": "code",
   "execution_count": 197,
   "metadata": {},
   "outputs": [],
   "source": [
    "traffic.drop(traffic[traffic['region'] == 'Total' ].index , inplace=True)"
   ]
  },
  {
   "cell_type": "code",
   "execution_count": 198,
   "metadata": {},
   "outputs": [],
   "source": [
    "license.drop(license[license['region'] == 'Total' ].index , inplace=True)"
   ]
  },
  {
   "cell_type": "markdown",
   "metadata": {},
   "source": [
    "------------------------------------------------------------------------------------------------------\n",
    "The coordinates columns seem useless\n",
    "They just correspond directly to the name of the region\n",
    "They are not used for calculating distances or any other values\n",
    "Therefore these columns will be dropped"
   ]
  },
  {
   "cell_type": "code",
   "execution_count": 199,
   "metadata": {},
   "outputs": [],
   "source": [
    "traffic.drop(['x_coordinate','y_coordinate'],axis=1,inplace=True)\n",
    "license.drop(['x_coordinate','y_coordinate'],axis=1,inplace=True)"
   ]
  },
  {
   "cell_type": "code",
   "execution_count": 200,
   "metadata": {},
   "outputs": [],
   "source": [
    "# unify the names of the regions among the two dataframe\n",
    "# it is cleaner this way, and also it will be essencial for merging the two dataframes later\n",
    "license.replace(['Al-Qaseem', 'Eastern', 'Assir'],['Alqaseem','Eastern Region','Asir'])\n",
    "traffic.replace(['Al-Baaha','Qassim'],['Al-Baha','Alqaseem']);"
   ]
  },
  {
   "cell_type": "markdown",
   "metadata": {},
   "source": [
    "#### 10a. Data formats\n",
    "Is the License data in long or wide format? How about the Accident data? And why?"
   ]
  },
  {
   "cell_type": "raw",
   "metadata": {},
   "source": [
    "The Traffic dataset is in LONG format because the \"Value\" column is stacked, representing 'num of deaths', 'num of injuries' , and 'num of accidents' all in one long column.\n",
    "The license dataset is in WIDE format because value column, which is driving licenses, is representing only the number of driving licenses within that column."
   ]
  },
  {
   "cell_type": "markdown",
   "metadata": {},
   "source": [
    "#### 10b. Changing formats\n",
    "Which format would work best for both dataframes? Transform the datasets to the same format before merging in the next task."
   ]
  },
  {
   "cell_type": "code",
   "execution_count": 201,
   "metadata": {},
   "outputs": [],
   "source": [
    "traffic.set_index(['region','year','traffic_accident_indicator'],inplace=True)"
   ]
  },
  {
   "cell_type": "code",
   "execution_count": 202,
   "metadata": {},
   "outputs": [],
   "source": [
    "# reshaping traffic from long to wide\n",
    "traffic = traffic.unstack('traffic_accident_indicator')"
   ]
  },
  {
   "cell_type": "code",
   "execution_count": 203,
   "metadata": {},
   "outputs": [],
   "source": [
    "# rename columns to avoid composite column names\n",
    "traffic.columns = ['num_of_accidents','num_of_casualties_dead','num_of_casualties_injured']"
   ]
  },
  {
   "cell_type": "code",
   "execution_count": 204,
   "metadata": {},
   "outputs": [],
   "source": [
    "license.set_index(['region','year'],inplace=True)"
   ]
  },
  {
   "cell_type": "markdown",
   "metadata": {},
   "source": [
    "#### 11. Merge dataframes\n",
    "\n",
    "Join the Driving Licenses & Traffic Accidents dataframes using the **region** and **year** in each dataframe as the key. Assign this to a new variable. Which join should you use to preserve the most data?\n",
    "\n",
    "ANSWER:\n",
    "After looking at all four types of joins, I decided to take the inner join in order to avoid NaNs."
   ]
  },
  {
   "cell_type": "code",
   "execution_count": 205,
   "metadata": {
    "scrolled": true
   },
   "outputs": [
    {
     "data": {
      "text/plain": [
       "((18, 4), (26, 4), (325, 4), (333, 4))"
      ]
     },
     "execution_count": 205,
     "metadata": {},
     "output_type": "execute_result"
    }
   ],
   "source": [
    "#code\n",
    "inner = pd.merge(traffic,license,how='inner',on=['region','year']).shape\n",
    "left = pd.merge(traffic,license,how='left',on=['region','year']).shape\n",
    "right = pd.merge(traffic,license,how='right',on=['region','year']).shape\n",
    "outer = pd.merge(traffic,license,how='outer',on=['region','year']).shape\n",
    "inner, left, right, outer"
   ]
  },
  {
   "cell_type": "code",
   "execution_count": 206,
   "metadata": {},
   "outputs": [],
   "source": [
    "# I decided to take the inner join to avoid NaNs\n",
    "df = pd.merge(traffic,license,how='inner',on=['region','year'])"
   ]
  },
  {
   "cell_type": "markdown",
   "metadata": {},
   "source": [
    "#### 12. Save your cleaned, merged dataframe\n",
    "\n",
    "Use a relative path to save out your data as `combined_datasets.csv`."
   ]
  },
  {
   "cell_type": "code",
   "execution_count": 207,
   "metadata": {},
   "outputs": [],
   "source": [
    "#code\n",
    "df.to_csv('../data/combined_datasets.csv')"
   ]
  },
  {
   "cell_type": "markdown",
   "metadata": {},
   "source": [
    "## Exploratory Data Analysis\n",
    "\n",
    "\n",
    "### Summary Statistics\n",
    "Transpose the output of pandas `describe` method to create a quick overview of each numeric feature."
   ]
  },
  {
   "cell_type": "code",
   "execution_count": 63,
   "metadata": {},
   "outputs": [
    {
     "data": {
      "text/html": [
       "<div>\n",
       "<style scoped>\n",
       "    .dataframe tbody tr th:only-of-type {\n",
       "        vertical-align: middle;\n",
       "    }\n",
       "\n",
       "    .dataframe tbody tr th {\n",
       "        vertical-align: top;\n",
       "    }\n",
       "\n",
       "    .dataframe thead th {\n",
       "        text-align: right;\n",
       "    }\n",
       "</style>\n",
       "<table border=\"1\" class=\"dataframe\">\n",
       "  <thead>\n",
       "    <tr style=\"text-align: right;\">\n",
       "      <th></th>\n",
       "      <th>count</th>\n",
       "      <th>mean</th>\n",
       "      <th>std</th>\n",
       "      <th>min</th>\n",
       "      <th>25%</th>\n",
       "      <th>50%</th>\n",
       "      <th>75%</th>\n",
       "      <th>max</th>\n",
       "    </tr>\n",
       "  </thead>\n",
       "  <tbody>\n",
       "    <tr>\n",
       "      <th>num_of_accidents</th>\n",
       "      <td>18.0</td>\n",
       "      <td>38877.000000</td>\n",
       "      <td>51442.889217</td>\n",
       "      <td>3193.0</td>\n",
       "      <td>10276.25</td>\n",
       "      <td>13835.5</td>\n",
       "      <td>24945.00</td>\n",
       "      <td>145541.0</td>\n",
       "    </tr>\n",
       "    <tr>\n",
       "      <th>num_of_casualties_dead</th>\n",
       "      <td>18.0</td>\n",
       "      <td>644.333333</td>\n",
       "      <td>615.990737</td>\n",
       "      <td>112.0</td>\n",
       "      <td>241.25</td>\n",
       "      <td>391.0</td>\n",
       "      <td>761.50</td>\n",
       "      <td>2243.0</td>\n",
       "    </tr>\n",
       "    <tr>\n",
       "      <th>num_of_casualties_injured</th>\n",
       "      <td>18.0</td>\n",
       "      <td>2902.833333</td>\n",
       "      <td>3412.830880</td>\n",
       "      <td>374.0</td>\n",
       "      <td>795.25</td>\n",
       "      <td>1483.5</td>\n",
       "      <td>3867.25</td>\n",
       "      <td>12383.0</td>\n",
       "    </tr>\n",
       "    <tr>\n",
       "      <th>num_of_licenses</th>\n",
       "      <td>18.0</td>\n",
       "      <td>69517.555556</td>\n",
       "      <td>124299.850286</td>\n",
       "      <td>2153.0</td>\n",
       "      <td>9586.25</td>\n",
       "      <td>16085.0</td>\n",
       "      <td>49921.50</td>\n",
       "      <td>495307.0</td>\n",
       "    </tr>\n",
       "  </tbody>\n",
       "</table>\n",
       "</div>"
      ],
      "text/plain": [
       "                           count          mean            std     min  \\\n",
       "num_of_accidents            18.0  38877.000000   51442.889217  3193.0   \n",
       "num_of_casualties_dead      18.0    644.333333     615.990737   112.0   \n",
       "num_of_casualties_injured   18.0   2902.833333    3412.830880   374.0   \n",
       "num_of_licenses             18.0  69517.555556  124299.850286  2153.0   \n",
       "\n",
       "                                25%      50%       75%       max  \n",
       "num_of_accidents           10276.25  13835.5  24945.00  145541.0  \n",
       "num_of_casualties_dead       241.25    391.0    761.50    2243.0  \n",
       "num_of_casualties_injured    795.25   1483.5   3867.25   12383.0  \n",
       "num_of_licenses             9586.25  16085.0  49921.50  495307.0  "
      ]
     },
     "execution_count": 63,
     "metadata": {},
     "output_type": "execute_result"
    }
   ],
   "source": [
    "#Code:\n",
    "df_stats = df.describe().transpose()\n",
    "df_stats"
   ]
  },
  {
   "cell_type": "markdown",
   "metadata": {},
   "source": [
    "#### Manually calculate standard deviation\n",
    "\n",
    "$$\\sigma = \\sqrt{\\frac{1}{n}\\sum_{i=1}^n(x_i - \\mu)^2}$$\n",
    "\n",
    "- Write a function to calculate standard deviation using the formula above"
   ]
  },
  {
   "cell_type": "code",
   "execution_count": 64,
   "metadata": {},
   "outputs": [],
   "source": [
    "#code\n",
    "def std(arr):\n",
    "    # arr is a numpy array\n",
    "    return (sum((arr-np.mean(arr))**2)/len(arr))**(1/2)\n",
    "    "
   ]
  },
  {
   "cell_type": "markdown",
   "metadata": {},
   "source": [
    "- Use a **dictionary comprehension** to apply your standard deviation function to each numeric column in the dataframe.  **No loops**  \n",
    "- Assign the output to variable `sd` as a dictionary where: \n",
    "    - Each column name is now a key \n",
    "    - That standard deviation of the column is the value \n",
    "     \n",
    "*Example Output :* `{'Driving_Licenses_x': 120, 'Traffic_Accidents_x': 120, ...}`"
   ]
  },
  {
   "cell_type": "code",
   "execution_count": 65,
   "metadata": {},
   "outputs": [
    {
     "data": {
      "text/plain": [
       "{'num_of_accidents': [49993.50205887872],\n",
       " 'num_of_casualties_dead': [598.6353926500949],\n",
       " 'num_of_casualties_injured': [3316.675448062077],\n",
       " 'num_of_licenses': [120797.74125933823]}"
      ]
     },
     "execution_count": 65,
     "metadata": {},
     "output_type": "execute_result"
    }
   ],
   "source": [
    "#Code:\n",
    "{column:[std(df[column].values)]  for column in df.columns}"
   ]
  },
  {
   "cell_type": "markdown",
   "metadata": {},
   "source": [
    "Do your manually calculated standard deviations match up with the output from pandas `describe`? What about numpy's `std` method?"
   ]
  },
  {
   "cell_type": "code",
   "execution_count": 66,
   "metadata": {},
   "outputs": [
    {
     "data": {
      "text/plain": [
       "num_of_accidents              51442.889217\n",
       "num_of_casualties_dead          615.990737\n",
       "num_of_casualties_injured      3412.830880\n",
       "num_of_licenses              124299.850286\n",
       "Name: std, dtype: float64"
      ]
     },
     "execution_count": 66,
     "metadata": {},
     "output_type": "execute_result"
    }
   ],
   "source": [
    "# Pandas' describe() method\n",
    "df_stats['std']"
   ]
  },
  {
   "cell_type": "code",
   "execution_count": 67,
   "metadata": {},
   "outputs": [
    {
     "data": {
      "text/plain": [
       "{'num_of_accidents': 49993.50205887872,\n",
       " 'num_of_casualties_dead': 598.6353926500949,\n",
       " 'num_of_casualties_injured': 3316.675448062077,\n",
       " 'num_of_licenses': 120797.74125933823}"
      ]
     },
     "execution_count": 67,
     "metadata": {},
     "output_type": "execute_result"
    }
   ],
   "source": [
    "# numpy std method\n",
    "{column: np.std(df[column]) for column in df.columns}"
   ]
  },
  {
   "cell_type": "markdown",
   "metadata": {},
   "source": [
    "Answer:\n",
    "My answer is identical to numpy's sdt method, but different from pandas' describe() method, although still close. This is because pandas' standard deviation method uses the unbiased estimator (n-1 in the denominato), whereas Numpy uses the unbiased standard deviation because it assumes it is working with the population, not the sample."
   ]
  },
  {
   "cell_type": "markdown",
   "metadata": {},
   "source": [
    "____________________________________________________________________________________________________________________________\n",
    "\n",
    "#### Investigate trends in the data\n",
    "Using sorting and/or masking (along with the `.head` method to not print our entire dataframe), consider the following questions:\n",
    "\n",
    "- Which regions have the highest and lowest Driving Licenses based on years (1993 - 2017) \n",
    "\n",
    "ANSWER: \n",
    "Highest ->Riyadh - Makkah - Eastern Region\n",
    "Lowest -> Northern Border - Albaha - Najran - Tabuk\n",
    "\n",
    "- Which regions have the highest and lowest Traffic Accidents numbers for years (2016 - 2017)\n",
    "\n",
    "ANSWER: \n",
    "Highest ->Riyadh - Makkah\n",
    "Lowest -> Najran - Albaha\n",
    "\n",
    "- What are the regions that have more Driving Licenses issued in each year than the year average? \n",
    "\n",
    "ANSWER: Riyadh - Makkah - Eastern Region\n",
    "        The Year Average: 69517.555556\n",
    "- What are the regions that have more Traffic Accidents happened in each year than the year average?\n",
    "\n",
    "ANSWER: Riyadh - Makkah - Eastern Region\n",
    "        The Year Average: 38877.000000\n",
    "\n",
    "Based on what you've just observed, have you identified any regions that you're especially interested in? **Make a note of these and state *why* you think they're interesting**.\n",
    "\n",
    "**You should comment on your findings at each step in a markdown cell below your code block**. Make sure you include at least one example of sorting your dataframe by a column, and one example of using boolean filtering (i.e., masking) to select a subset of the dataframe."
   ]
  },
  {
   "cell_type": "code",
   "execution_count": 68,
   "metadata": {},
   "outputs": [
    {
     "name": "stdout",
     "output_type": "stream",
     "text": [
      "             num_of_licenses\n",
      "region year                 \n",
      "Riyadh 1993           103886\n",
      "             num_of_licenses\n",
      "region year                 \n",
      "Riyadh 1994           110545\n",
      "             num_of_licenses\n",
      "region year                 \n",
      "Riyadh 1995           101608\n",
      "             num_of_licenses\n",
      "region year                 \n",
      "Riyadh 1996           110131\n",
      "             num_of_licenses\n",
      "region year                 \n",
      "Riyadh 1997            92145\n",
      "             num_of_licenses\n",
      "region year                 \n",
      "Riyadh 1998           114962\n",
      "             num_of_licenses\n",
      "region year                 \n",
      "Makkah 1999           103535\n",
      "             num_of_licenses\n",
      "region year                 \n",
      "Makkah 2000            87053\n",
      "             num_of_licenses\n",
      "region year                 \n",
      "Makkah 2001            85593\n",
      "             num_of_licenses\n",
      "region year                 \n",
      "Makkah 2002            88593\n",
      "              num_of_licenses\n",
      "region  year                 \n",
      "Eastern 2003            82697\n",
      "             num_of_licenses\n",
      "region year                 \n",
      "Makkah 2004            86636\n",
      "              num_of_licenses\n",
      "region  year                 \n",
      "Eastern 2005            82505\n",
      "              num_of_licenses\n",
      "region  year                 \n",
      "Eastern 2006            79517\n",
      "              num_of_licenses\n",
      "region  year                 \n",
      "Eastern 2007           106511\n",
      "              num_of_licenses\n",
      "region  year                 \n",
      "Eastern 2008           104626\n",
      "             num_of_licenses\n",
      "region year                 \n",
      "Makkah 2009           112045\n",
      "             num_of_licenses\n",
      "region year                 \n",
      "Makkah 2010           113531\n",
      "              num_of_licenses\n",
      "region  year                 \n",
      "Eastern 2011           151087\n",
      "             num_of_licenses\n",
      "region year                 \n",
      "Makkah 2012           143954\n",
      "             num_of_licenses\n",
      "region year                 \n",
      "Riyadh 2013           165994\n",
      "             num_of_licenses\n",
      "region year                 \n",
      "Riyadh 2014           194208\n",
      "             num_of_licenses\n",
      "region year                 \n",
      "Makkah 2015           157389\n",
      "             num_of_licenses\n",
      "region year                 \n",
      "Riyadh 2016           242851\n",
      "             num_of_licenses\n",
      "region year                 \n",
      "Riyadh 2017           495307\n"
     ]
    }
   ],
   "source": [
    "# regions that have the highest Driving Licenses based on years (1993 - 2017)\n",
    "#create a for loop that iterates over the years\n",
    "for year,info in license.groupby('year'):\n",
    "    \n",
    "        # in each iteration, get the row (region) with the max licenses \n",
    "        maxi = info.num_of_licenses.max()\n",
    "        i = info.num_of_licenses ==  maxi\n",
    "        print(info.loc[i,:])"
   ]
  },
  {
   "cell_type": "code",
   "execution_count": 69,
   "metadata": {},
   "outputs": [
    {
     "name": "stdout",
     "output_type": "stream",
     "text": [
      "                       num_of_licenses\n",
      "region           year                 \n",
      "Northern Boarder 1993             1510\n",
      "                       num_of_licenses\n",
      "region           year                 \n",
      "Northern Boarder 1994             1457\n",
      "                       num_of_licenses\n",
      "region           year                 \n",
      "Northern Boarder 1995             1318\n",
      "                       num_of_licenses\n",
      "region           year                 \n",
      "Northern Boarder 1996             1383\n",
      "                       num_of_licenses\n",
      "region           year                 \n",
      "Northern Boarder 1997             1531\n",
      "                       num_of_licenses\n",
      "region           year                 \n",
      "Northern Boarder 1998             2014\n",
      "                       num_of_licenses\n",
      "region           year                 \n",
      "Northern Boarder 1999             2311\n",
      "                       num_of_licenses\n",
      "region           year                 \n",
      "Northern Boarder 2000             2894\n",
      "                       num_of_licenses\n",
      "region           year                 \n",
      "Northern Boarder 2001             2971\n",
      "                       num_of_licenses\n",
      "region           year                 \n",
      "Northern Boarder 2002             2268\n",
      "                       num_of_licenses\n",
      "region           year                 \n",
      "Northern Boarder 2003             1705\n",
      "                       num_of_licenses\n",
      "region           year                 \n",
      "Northern Boarder 2004             1922\n",
      "                       num_of_licenses\n",
      "region           year                 \n",
      "Northern Boarder 2005             1804\n",
      "                       num_of_licenses\n",
      "region           year                 \n",
      "Northern Boarder 2006             2573\n",
      "              num_of_licenses\n",
      "region  year                 \n",
      "Al-Baha 2007              997\n",
      "                       num_of_licenses\n",
      "region           year                 \n",
      "Northern Boarder 2008             3519\n",
      "                       num_of_licenses\n",
      "region           year                 \n",
      "Northern Boarder 2009             3649\n",
      "                       num_of_licenses\n",
      "region           year                 \n",
      "Northern Boarder 2010             3064\n",
      "                       num_of_licenses\n",
      "region           year                 \n",
      "Northern Boarder 2011             4314\n",
      "                       num_of_licenses\n",
      "region           year                 \n",
      "Northern Boarder 2012             3706\n",
      "                       num_of_licenses\n",
      "region           year                 \n",
      "Northern Boarder 2013             3921\n",
      "                       num_of_licenses\n",
      "region           year                 \n",
      "Northern Boarder 2014             5009\n",
      "             num_of_licenses\n",
      "region year                 \n",
      "Tabouk 2015              915\n",
      "             num_of_licenses\n",
      "region year                 \n",
      "Najran 2016             2153\n",
      "              num_of_licenses\n",
      "region  year                 \n",
      "Al-Baha 2017             4131\n"
     ]
    }
   ],
   "source": [
    "# regions that have the lowest Driving Licenses based on years (1993 - 2017)   \n",
    "#create a for loop that iterates over the years\n",
    "for year,info in license.groupby('year'):\n",
    "    \n",
    "        # in each iteration, get the row (region) with the min licenses   \n",
    "        i = info.num_of_licenses == info.num_of_licenses.min()    \n",
    "        print(info[i])"
   ]
  },
  {
   "cell_type": "code",
   "execution_count": 70,
   "metadata": {},
   "outputs": [
    {
     "name": "stdout",
     "output_type": "stream",
     "text": [
      "             num_of_accidents  num_of_casualties_dead  \\\n",
      "region year                                             \n",
      "Riyadh 2016            141736                    1430   \n",
      "\n",
      "             num_of_casualties_injured  \n",
      "region year                             \n",
      "Riyadh 2016                       4207  \n",
      "             num_of_accidents  num_of_casualties_dead  \\\n",
      "region year                                             \n",
      "Makkah 2017            145541                    1641   \n",
      "\n",
      "             num_of_casualties_injured  \n",
      "region year                             \n",
      "Makkah 2017                      10623  \n"
     ]
    }
   ],
   "source": [
    "# regions that have the highest Traffic Accidents numbers for years (2016 - 2017)\n",
    "traffic.groupby('year').num_of_accidents.max()\n",
    "for year,info in traffic.groupby('year'):\n",
    "    i = info.num_of_accidents == info.num_of_accidents.max()   \n",
    "    print(info[i])"
   ]
  },
  {
   "cell_type": "code",
   "execution_count": 71,
   "metadata": {},
   "outputs": [
    {
     "name": "stdout",
     "output_type": "stream",
     "text": [
      "             num_of_accidents  num_of_casualties_dead  \\\n",
      "region year                                             \n",
      "Najran 2016              3235                     173   \n",
      "\n",
      "             num_of_casualties_injured  \n",
      "region year                             \n",
      "Najran 2016                        706  \n",
      "               num_of_accidents  num_of_casualties_dead  \\\n",
      "region   year                                             \n",
      "Al-Baaha 2017              1414                     134   \n",
      "\n",
      "               num_of_casualties_injured  \n",
      "region   year                             \n",
      "Al-Baaha 2017                       1007  \n"
     ]
    }
   ],
   "source": [
    "# regions that have the lowest Traffic Accidents numbers for years (2016 - 2017)\n",
    "for year,info in traffic.groupby('year'):\n",
    "    i = info.num_of_accidents == info.num_of_accidents.min()   \n",
    "    print(info[i])"
   ]
  },
  {
   "cell_type": "code",
   "execution_count": 72,
   "metadata": {},
   "outputs": [
    {
     "data": {
      "text/html": [
       "<div>\n",
       "<style scoped>\n",
       "    .dataframe tbody tr th:only-of-type {\n",
       "        vertical-align: middle;\n",
       "    }\n",
       "\n",
       "    .dataframe tbody tr th {\n",
       "        vertical-align: top;\n",
       "    }\n",
       "\n",
       "    .dataframe thead th {\n",
       "        text-align: right;\n",
       "    }\n",
       "</style>\n",
       "<table border=\"1\" class=\"dataframe\">\n",
       "  <thead>\n",
       "    <tr style=\"text-align: right;\">\n",
       "      <th></th>\n",
       "      <th></th>\n",
       "      <th>num_of_licenses</th>\n",
       "    </tr>\n",
       "    <tr>\n",
       "      <th>region</th>\n",
       "      <th>year</th>\n",
       "      <th></th>\n",
       "    </tr>\n",
       "  </thead>\n",
       "  <tbody>\n",
       "    <tr>\n",
       "      <th rowspan=\"5\" valign=\"top\">Makkah</th>\n",
       "      <th>2012</th>\n",
       "      <td>143954</td>\n",
       "    </tr>\n",
       "    <tr>\n",
       "      <th>1994</th>\n",
       "      <td>75349</td>\n",
       "    </tr>\n",
       "    <tr>\n",
       "      <th>1998</th>\n",
       "      <td>86082</td>\n",
       "    </tr>\n",
       "    <tr>\n",
       "      <th>2004</th>\n",
       "      <td>86636</td>\n",
       "    </tr>\n",
       "    <tr>\n",
       "      <th>2008</th>\n",
       "      <td>77013</td>\n",
       "    </tr>\n",
       "    <tr>\n",
       "      <th>Eastern</th>\n",
       "      <th>2015</th>\n",
       "      <td>135752</td>\n",
       "    </tr>\n",
       "    <tr>\n",
       "      <th rowspan=\"2\" valign=\"top\">Riyadh</th>\n",
       "      <th>2013</th>\n",
       "      <td>165994</td>\n",
       "    </tr>\n",
       "    <tr>\n",
       "      <th>1999</th>\n",
       "      <td>100291</td>\n",
       "    </tr>\n",
       "    <tr>\n",
       "      <th rowspan=\"2\" valign=\"top\">Makkah</th>\n",
       "      <th>2015</th>\n",
       "      <td>157389</td>\n",
       "    </tr>\n",
       "    <tr>\n",
       "      <th>2013</th>\n",
       "      <td>131108</td>\n",
       "    </tr>\n",
       "    <tr>\n",
       "      <th>Riyadh</th>\n",
       "      <th>1997</th>\n",
       "      <td>92145</td>\n",
       "    </tr>\n",
       "    <tr>\n",
       "      <th rowspan=\"6\" valign=\"top\">Makkah</th>\n",
       "      <th>2014</th>\n",
       "      <td>149234</td>\n",
       "    </tr>\n",
       "    <tr>\n",
       "      <th>2010</th>\n",
       "      <td>113531</td>\n",
       "    </tr>\n",
       "    <tr>\n",
       "      <th>1997</th>\n",
       "      <td>76623</td>\n",
       "    </tr>\n",
       "    <tr>\n",
       "      <th>1999</th>\n",
       "      <td>103535</td>\n",
       "    </tr>\n",
       "    <tr>\n",
       "      <th>2000</th>\n",
       "      <td>87053</td>\n",
       "    </tr>\n",
       "    <tr>\n",
       "      <th>2009</th>\n",
       "      <td>112045</td>\n",
       "    </tr>\n",
       "    <tr>\n",
       "      <th rowspan=\"3\" valign=\"top\">Eastern</th>\n",
       "      <th>2017</th>\n",
       "      <td>126816</td>\n",
       "    </tr>\n",
       "    <tr>\n",
       "      <th>2011</th>\n",
       "      <td>151087</td>\n",
       "    </tr>\n",
       "    <tr>\n",
       "      <th>2012</th>\n",
       "      <td>129971</td>\n",
       "    </tr>\n",
       "    <tr>\n",
       "      <th rowspan=\"5\" valign=\"top\">Riyadh</th>\n",
       "      <th>1993</th>\n",
       "      <td>103886</td>\n",
       "    </tr>\n",
       "    <tr>\n",
       "      <th>1995</th>\n",
       "      <td>101608</td>\n",
       "    </tr>\n",
       "    <tr>\n",
       "      <th>1994</th>\n",
       "      <td>110545</td>\n",
       "    </tr>\n",
       "    <tr>\n",
       "      <th>2014</th>\n",
       "      <td>194208</td>\n",
       "    </tr>\n",
       "    <tr>\n",
       "      <th>1996</th>\n",
       "      <td>110131</td>\n",
       "    </tr>\n",
       "    <tr>\n",
       "      <th rowspan=\"3\" valign=\"top\">Makkah</th>\n",
       "      <th>2017</th>\n",
       "      <td>142487</td>\n",
       "    </tr>\n",
       "    <tr>\n",
       "      <th>2016</th>\n",
       "      <td>136055</td>\n",
       "    </tr>\n",
       "    <tr>\n",
       "      <th>2001</th>\n",
       "      <td>85593</td>\n",
       "    </tr>\n",
       "    <tr>\n",
       "      <th rowspan=\"6\" valign=\"top\">Eastern</th>\n",
       "      <th>2013</th>\n",
       "      <td>123325</td>\n",
       "    </tr>\n",
       "    <tr>\n",
       "      <th>2002</th>\n",
       "      <td>85035</td>\n",
       "    </tr>\n",
       "    <tr>\n",
       "      <th>2001</th>\n",
       "      <td>74119</td>\n",
       "    </tr>\n",
       "    <tr>\n",
       "      <th>2006</th>\n",
       "      <td>79517</td>\n",
       "    </tr>\n",
       "    <tr>\n",
       "      <th>2007</th>\n",
       "      <td>106511</td>\n",
       "    </tr>\n",
       "    <tr>\n",
       "      <th>2008</th>\n",
       "      <td>104626</td>\n",
       "    </tr>\n",
       "    <tr>\n",
       "      <th>Makkah</th>\n",
       "      <th>2011</th>\n",
       "      <td>110647</td>\n",
       "    </tr>\n",
       "    <tr>\n",
       "      <th rowspan=\"5\" valign=\"top\">Eastern</th>\n",
       "      <th>2014</th>\n",
       "      <td>121774</td>\n",
       "    </tr>\n",
       "    <tr>\n",
       "      <th>2016</th>\n",
       "      <td>142307</td>\n",
       "    </tr>\n",
       "    <tr>\n",
       "      <th>2010</th>\n",
       "      <td>110295</td>\n",
       "    </tr>\n",
       "    <tr>\n",
       "      <th>2003</th>\n",
       "      <td>82697</td>\n",
       "    </tr>\n",
       "    <tr>\n",
       "      <th>2009</th>\n",
       "      <td>108544</td>\n",
       "    </tr>\n",
       "    <tr>\n",
       "      <th rowspan=\"3\" valign=\"top\">Riyadh</th>\n",
       "      <th>2017</th>\n",
       "      <td>495307</td>\n",
       "    </tr>\n",
       "    <tr>\n",
       "      <th>2016</th>\n",
       "      <td>242851</td>\n",
       "    </tr>\n",
       "    <tr>\n",
       "      <th>1998</th>\n",
       "      <td>114962</td>\n",
       "    </tr>\n",
       "    <tr>\n",
       "      <th rowspan=\"3\" valign=\"top\">Makkah</th>\n",
       "      <th>2002</th>\n",
       "      <td>88593</td>\n",
       "    </tr>\n",
       "    <tr>\n",
       "      <th>2003</th>\n",
       "      <td>74236</td>\n",
       "    </tr>\n",
       "    <tr>\n",
       "      <th>2007</th>\n",
       "      <td>91902</td>\n",
       "    </tr>\n",
       "    <tr>\n",
       "      <th>Al-Qaseem</th>\n",
       "      <th>1993</th>\n",
       "      <td>73618</td>\n",
       "    </tr>\n",
       "    <tr>\n",
       "      <th rowspan=\"3\" valign=\"top\">Eastern</th>\n",
       "      <th>1998</th>\n",
       "      <td>70650</td>\n",
       "    </tr>\n",
       "    <tr>\n",
       "      <th>2004</th>\n",
       "      <td>84984</td>\n",
       "    </tr>\n",
       "    <tr>\n",
       "      <th>2005</th>\n",
       "      <td>82505</td>\n",
       "    </tr>\n",
       "  </tbody>\n",
       "</table>\n",
       "</div>"
      ],
      "text/plain": [
       "                num_of_licenses\n",
       "region    year                 \n",
       "Makkah    2012           143954\n",
       "          1994            75349\n",
       "          1998            86082\n",
       "          2004            86636\n",
       "          2008            77013\n",
       "Eastern   2015           135752\n",
       "Riyadh    2013           165994\n",
       "          1999           100291\n",
       "Makkah    2015           157389\n",
       "          2013           131108\n",
       "Riyadh    1997            92145\n",
       "Makkah    2014           149234\n",
       "          2010           113531\n",
       "          1997            76623\n",
       "          1999           103535\n",
       "          2000            87053\n",
       "          2009           112045\n",
       "Eastern   2017           126816\n",
       "          2011           151087\n",
       "          2012           129971\n",
       "Riyadh    1993           103886\n",
       "          1995           101608\n",
       "          1994           110545\n",
       "          2014           194208\n",
       "          1996           110131\n",
       "Makkah    2017           142487\n",
       "          2016           136055\n",
       "          2001            85593\n",
       "Eastern   2013           123325\n",
       "          2002            85035\n",
       "          2001            74119\n",
       "          2006            79517\n",
       "          2007           106511\n",
       "          2008           104626\n",
       "Makkah    2011           110647\n",
       "Eastern   2014           121774\n",
       "          2016           142307\n",
       "          2010           110295\n",
       "          2003            82697\n",
       "          2009           108544\n",
       "Riyadh    2017           495307\n",
       "          2016           242851\n",
       "          1998           114962\n",
       "Makkah    2002            88593\n",
       "          2003            74236\n",
       "          2007            91902\n",
       "Al-Qaseem 1993            73618\n",
       "Eastern   1998            70650\n",
       "          2004            84984\n",
       "          2005            82505"
      ]
     },
     "execution_count": 72,
     "metadata": {},
     "output_type": "execute_result"
    }
   ],
   "source": [
    "# What are the regions that have more Driving Licenses issued in each year than the year average(region average per year)? \n",
    "year_avg = 69517.555556\n",
    "license[license['num_of_licenses'] > year_avg]"
   ]
  },
  {
   "cell_type": "code",
   "execution_count": 73,
   "metadata": {},
   "outputs": [
    {
     "data": {
      "text/html": [
       "<div>\n",
       "<style scoped>\n",
       "    .dataframe tbody tr th:only-of-type {\n",
       "        vertical-align: middle;\n",
       "    }\n",
       "\n",
       "    .dataframe tbody tr th {\n",
       "        vertical-align: top;\n",
       "    }\n",
       "\n",
       "    .dataframe thead th {\n",
       "        text-align: right;\n",
       "    }\n",
       "</style>\n",
       "<table border=\"1\" class=\"dataframe\">\n",
       "  <thead>\n",
       "    <tr style=\"text-align: right;\">\n",
       "      <th></th>\n",
       "      <th></th>\n",
       "      <th>num_of_accidents</th>\n",
       "      <th>num_of_casualties_dead</th>\n",
       "      <th>num_of_casualties_injured</th>\n",
       "    </tr>\n",
       "    <tr>\n",
       "      <th>region</th>\n",
       "      <th>year</th>\n",
       "      <th></th>\n",
       "      <th></th>\n",
       "      <th></th>\n",
       "    </tr>\n",
       "  </thead>\n",
       "  <tbody>\n",
       "    <tr>\n",
       "      <th rowspan=\"2\" valign=\"top\">Eastern Region</th>\n",
       "      <th>2016</th>\n",
       "      <td>101619</td>\n",
       "      <td>1113</td>\n",
       "      <td>4893</td>\n",
       "    </tr>\n",
       "    <tr>\n",
       "      <th>2017</th>\n",
       "      <td>81433</td>\n",
       "      <td>963</td>\n",
       "      <td>4073</td>\n",
       "    </tr>\n",
       "    <tr>\n",
       "      <th rowspan=\"2\" valign=\"top\">Makkah</th>\n",
       "      <th>2016</th>\n",
       "      <td>134838</td>\n",
       "      <td>2243</td>\n",
       "      <td>12383</td>\n",
       "    </tr>\n",
       "    <tr>\n",
       "      <th>2017</th>\n",
       "      <td>145541</td>\n",
       "      <td>1641</td>\n",
       "      <td>10623</td>\n",
       "    </tr>\n",
       "    <tr>\n",
       "      <th rowspan=\"2\" valign=\"top\">Riyadh</th>\n",
       "      <th>2016</th>\n",
       "      <td>141736</td>\n",
       "      <td>1430</td>\n",
       "      <td>4207</td>\n",
       "    </tr>\n",
       "    <tr>\n",
       "      <th>2017</th>\n",
       "      <td>99925</td>\n",
       "      <td>1399</td>\n",
       "      <td>4540</td>\n",
       "    </tr>\n",
       "  </tbody>\n",
       "</table>\n",
       "</div>"
      ],
      "text/plain": [
       "                     num_of_accidents  num_of_casualties_dead  \\\n",
       "region         year                                             \n",
       "Eastern Region 2016            101619                    1113   \n",
       "               2017             81433                     963   \n",
       "Makkah         2016            134838                    2243   \n",
       "               2017            145541                    1641   \n",
       "Riyadh         2016            141736                    1430   \n",
       "               2017             99925                    1399   \n",
       "\n",
       "                     num_of_casualties_injured  \n",
       "region         year                             \n",
       "Eastern Region 2016                       4893  \n",
       "               2017                       4073  \n",
       "Makkah         2016                      12383  \n",
       "               2017                      10623  \n",
       "Riyadh         2016                       4207  \n",
       "               2017                       4540  "
      ]
     },
     "execution_count": 73,
     "metadata": {},
     "output_type": "execute_result"
    }
   ],
   "source": [
    "# What are the regions that have more Traffic Accidents happened in each year than the year average?\n",
    "year_avg = 38225.692308\n",
    "traffic[traffic['num_of_accidents'] > year_avg]"
   ]
  },
  {
   "cell_type": "markdown",
   "metadata": {},
   "source": [
    "## Visualize the data\n",
    "\n",
    "There's not a magic bullet recommendation for the right number of plots to understand a given dataset, but visualizing your data is *always* a good idea. Not only does it allow you to quickly convey your findings (even if you have a non-technical audience), it will often reveal trends in your data that escaped you when you were looking only at numbers.\n",
    "\n",
    "Some recommendations on plotting:\n",
    "- Plots have titles\n",
    "- Plots have axis labels\n",
    "- Plots have appropriate tick labels\n",
    "- All text is legible in a plot\n",
    "- Plots demonstrate meaningful and valid relationships\n",
    "- Plots are interpreted to aid understanding\n",
    "\n",
    "There is such a thing as too many plots, and there are a *lot* of bad plots. You might make some! (But hopefully not with the guided prompts below)."
   ]
  },
  {
   "cell_type": "markdown",
   "metadata": {},
   "source": [
    "#### Use Seaborn's heatmap with pandas `.corr()` to visualize correlations between all numeric features\n",
    "\n",
    "Heatmaps are generally not appropriate for presentations, and should often be excluded from reports as they can be visually overwhelming. **However**, they can be extremely useful in identify relationships of potential interest (as well as identifying potential collinearity before modeling).\n",
    "\n",
    "*example*:\n",
    "```python\n",
    "sns.heatmap(df.corr())\n",
    "```\n",
    "\n",
    "Please take time to format your output, adding a title. Look through some of the additional arguments and options. (Axis labels aren't really necessary, as long as the title is informative)."
   ]
  },
  {
   "cell_type": "code",
   "execution_count": 74,
   "metadata": {},
   "outputs": [
    {
     "data": {
      "image/png": "[encoded data removed]",
      "text/plain": [
       "<Figure size 576x432 with 2 Axes>"
      ]
     },
     "metadata": {},
     "output_type": "display_data"
    }
   ],
   "source": [
    "plt.figure(figsize=(8,6))\n",
    "ax = sns.heatmap(df.corr(),annot=True,)\n",
    "ax.set_title('Traffic Data Correlation');"
   ]
  },
  {
   "cell_type": "markdown",
   "metadata": {},
   "source": [
    "# Interpreting the Heatmap\n",
    " The heatmap illustrates that the three types of accidents are highlycorrelated \n",
    " This is expected because the three variables represent essencially the same thing (accidents) but different types (deadly vs non-deadly ..)\n",
    "\n",
    " Number of accidents is also correlated with the number of licenses (0.71)"
   ]
  },
  {
   "cell_type": "markdown",
   "metadata": {},
   "source": [
    "#### Define a custom function to subplot histograms\n",
    "\n",
    "We should write a function that will take the names of 2+ columns and subplot histograms. While you can use pandas plotting or Seaborn here, matplotlib gives you greater control over all aspects of your plots.\n",
    "\n",
    "[Helpful Link for Plotting Multiple Figures](https://matplotlib.org/users/pyplot_tutorial.html#working-with-multiple-figures-and-axes)\n",
    "\n",
    "Here's some starter code:"
   ]
  },
  {
   "cell_type": "code",
   "execution_count": 75,
   "metadata": {},
   "outputs": [],
   "source": [
    "def subplot_histograms(dataframe, list_of_columns, list_of_titles, list_of_xlabels):\n",
    "    \n",
    "    nrows = int(np.ceil(len(list_of_columns)/2)) # Makes sure you have enough rows\n",
    "    fig, ax = plt.subplots(nrows=nrows, ncols=2,figsize=(12, 10)) # You'll want to specify your figsize\n",
    "    plt.subplots_adjust(wspace=0.2,hspace=0.4)\n",
    "    ax = ax.ravel() # Ravel turns a matrix into a vector, which is easier to iterate\n",
    "    \n",
    "    for i, column in enumerate(list_of_columns): # Gives us an index value to get into all our lists\n",
    "        ax[i].hist(dataframe[column]) # feel free to add more settings\n",
    "        ax[i].set_title(list_of_titles[i])\n",
    "        ax[i].set_xlabel(list_of_xlabels[i])# Set titles, labels, etc here for each subplot\n",
    "        "
   ]
  },
  {
   "cell_type": "markdown",
   "metadata": {},
   "source": [
    "#### Plot and interpret histograms \n",
    "For each of the following:\n",
    "- Driving Licenses number\n",
    "- Traffic Accidents number\n",
    "\n",
    "Please plot two additional histograms that will help with your understanding of the data"
   ]
  },
  {
   "cell_type": "code",
   "execution_count": 76,
   "metadata": {},
   "outputs": [
    {
     "data": {
      "image/png": "[encoded data removed]",
      "text/plain": [
       "<Figure size 864x720 with 4 Axes>"
      ]
     },
     "metadata": {},
     "output_type": "display_data"
    }
   ],
   "source": [
    "df_cols = df[['num_of_accidents', 'num_of_casualties_dead','num_of_casualties_injured']].columns\n",
    "subplot_histograms(df,df_cols.values,df_cols.tolist(),df_cols.tolist())"
   ]
  },
  {
   "cell_type": "code",
   "execution_count": 77,
   "metadata": {},
   "outputs": [
    {
     "data": {
      "image/png": "[encoded data removed]",
      "text/plain": [
       "<Figure size 864x720 with 2 Axes>"
      ]
     },
     "metadata": {},
     "output_type": "display_data"
    }
   ],
   "source": [
    "subplot_histograms(license,license.columns.values,license.columns.tolist(),license.columns.tolist())"
   ]
  },
  {
   "cell_type": "markdown",
   "metadata": {},
   "source": [
    "## Interpretation of Accidents' Histograms\n",
    "\n",
    "The histograms illustrate the frequency of the variable's values in each case. All four variables have distributions skewed to the right. most regions have low numbers/values accross all four variables, then outliers to the right of the plot which usually represent the larger more crowded cities Riyadh and Makkah.\n",
    "\n",
    "### Number of Accidents:\n",
    "Most regions have low numbers of accidents per year (lower than 4000), with a median* of 13835.5\n",
    "Then there are two outliers Riyadh and Makkah with accident levels above 10,000. \n",
    "\n",
    "### Number of Injuries\n",
    "Most regions have low numbers of casualties injured by car accidents per year (lower than 5000), with a median* number of 1483.5 \n",
    "Then there is one outlier, Makkah, with a mean rate above 10,000. \n",
    "\n",
    "### Number of Deaths\n",
    "Most regions have low numbers of casualty deaths by car accidents per year (lower than 1000), with a median* number of 391.0 \n",
    "Then there are two outliers Riyadh and Makkah with mean casualty deaths above 1000 per year. \n",
    "\n",
    "### Number of Licenses\n",
    "Most regions have low numbers of licenses issued every year , with a median* number of 16085.0 \n",
    "There is one outlier, Riyadh with a mean of more than 350,000 licenses per year. \n",
    "\n",
    "*looking at the median because there are outliers pulling the mean to the right."
   ]
  },
  {
   "cell_type": "code",
   "execution_count": 78,
   "metadata": {},
   "outputs": [
    {
     "data": {
      "text/plain": [
       "(13835.5, 1483.5, 391.0, 16085.0)"
      ]
     },
     "execution_count": 78,
     "metadata": {},
     "output_type": "execute_result"
    }
   ],
   "source": [
    "# Calculating Medians\n",
    "med_accidents = df['num_of_accidents'].median()\n",
    "med_injured = df['num_of_casualties_injured'].median()\n",
    "med_deaths = df['num_of_casualties_dead'].median()\n",
    "med_licenses = df['num_of_licenses'].median()\n",
    "med_accidents, med_injured, med_deaths, med_licenses"
   ]
  },
  {
   "cell_type": "markdown",
   "metadata": {},
   "source": [
    "#### Plot and interpret scatter plots\n",
    "\n",
    "For each of the following:\n",
    "- Driving Licenses vs. Traffic Accidents for 2017\n",
    "- Driving Licenses vs. Traffic Accidents for 2016\n",
    "- Driving Licenses for 2016 vs 2017\n",
    "- Traffic Accidents for 2016 vs 2017\n",
    "\n",
    "Plot the two variables against each other using matplotlib or Seaborn\n",
    "\n",
    "Your plots should show:\n",
    "- Two clearly labeled axes\n",
    "- A proper title\n",
    "- Using colors and symbols that are clear and unmistakable\n",
    "\n",
    "**Feel free to write a custom function, and subplot if you'd like.** Functions save both time and space.\n"
   ]
  },
  {
   "cell_type": "code",
   "execution_count": 79,
   "metadata": {},
   "outputs": [
    {
     "data": {
      "image/png": "[encoded data removed]",
      "text/plain": [
       "<Figure size 576x432 with 1 Axes>"
      ]
     },
     "metadata": {},
     "output_type": "display_data"
    }
   ],
   "source": [
    "# Scatter Plot - Driving Licenses vs. Traffic Accidents for 2017\n",
    "traffic_accidents_2017 = df.loc[(slice(None),2017),'num_of_accidents']\n",
    "driving_licenses_2017 = df.loc[(slice(None),2017),'num_of_licenses']\n",
    "\n",
    "plt.figure(figsize=(8,6))\n",
    "plt.scatter(driving_licenses_2017,traffic_accidents_2017)\n",
    "plt.xlabel('Driving Licenses')\n",
    "plt.ylabel('Traffic Accidents')\n",
    "plt.title(\"Traffic Accidents vs Driving Licenses (2017)\")\n",
    "plt.show();"
   ]
  },
  {
   "cell_type": "code",
   "execution_count": 80,
   "metadata": {},
   "outputs": [
    {
     "data": {
      "image/png": "[encoded data removed]",
      "text/plain": [
       "<Figure size 576x432 with 1 Axes>"
      ]
     },
     "metadata": {},
     "output_type": "display_data"
    }
   ],
   "source": [
    "# Scatter Plot - Driving Licenses vs. Traffic Accidents for 2016\n",
    "traffic_accidents_2016 = df.loc[(slice(None),2016),'num_of_accidents']\n",
    "driving_licenses_2016 = df.loc[(slice(None),2016),'num_of_licenses']\n",
    "\n",
    "plt.figure(figsize=(8,6))\n",
    "plt.scatter(driving_licenses_2016,traffic_accidents_2016)\n",
    "plt.xlabel('Driving Licenses')\n",
    "plt.ylabel('Traffic Accidents')\n",
    "plt.title(\"Traffic Accidents vs Driving Licenses (2016)\")\n",
    "plt.show();"
   ]
  },
  {
   "cell_type": "markdown",
   "metadata": {},
   "source": [
    "## Interpretation\n",
    "The two scatter plots above suggest that the number of traffic accidents and driving licenses increase together. However, this would be missleading. An increase in the number of driving licenses suggests a bigger and perhaps more crowded city/region, which could explain higher traffic accidents in most cases. In this case, city size/population would be a confounding variable (a third variable that leads to a causal relationship between the first two variables). Further investigation is needed to prove that this is the case."
   ]
  },
  {
   "cell_type": "code",
   "execution_count": 81,
   "metadata": {},
   "outputs": [
    {
     "data": {
      "image/png": "[encoded data removed]",
      "text/plain": [
       "<Figure size 576x432 with 1 Axes>"
      ]
     },
     "metadata": {},
     "output_type": "display_data"
    }
   ],
   "source": [
    "#Driving Licenses for 2016 vs 2017\n",
    "driving_licenses_2016 = df.loc[(slice(None),2016),'num_of_licenses'].sort_index()\n",
    "driving_licenses_2017 = df.loc[(slice(None),2017),'num_of_licenses'].sort_index()\n",
    "\n",
    "plt.figure(figsize=(8,6))\n",
    "plt.scatter(driving_licenses_2016,driving_licenses_2017)\n",
    "plt.xlabel('Driving Licenses for 2016')\n",
    "plt.ylabel('Driving Licenses for 2017')\n",
    "plt.title(\"Driving Licenses for 2016 vs 2017\")\n",
    "plt.show();"
   ]
  },
  {
   "cell_type": "code",
   "execution_count": 82,
   "metadata": {},
   "outputs": [
    {
     "data": {
      "image/png": "[encoded data removed]",
      "text/plain": [
       "<Figure size 576x432 with 1 Axes>"
      ]
     },
     "metadata": {},
     "output_type": "display_data"
    }
   ],
   "source": [
    "#Traffic Accidents for 2016 vs 2017\n",
    "traffic_accidents_2016 = df.loc[(slice(None),2016),'num_of_accidents'].sort_index()\n",
    "traffic_accidents_2017 = df.loc[(slice(None),2017),'num_of_accidents'].sort_index()\n",
    "\n",
    "plt.figure(figsize=(8,6))\n",
    "plt.scatter(traffic_accidents_2016,traffic_accidents_2017)\n",
    "plt.xlabel('Traffic Accidents for 2016')\n",
    "plt.ylabel('Traffic Accidents for 2017')\n",
    "plt.title(\"Traffic Accidents for 2016 vs 2017\")\n",
    "plt.show();"
   ]
  },
  {
   "cell_type": "markdown",
   "metadata": {},
   "source": [
    "## Interpretation - \n",
    "\n",
    "### Driving Licenses & Traffic Accidents for 2016 vs 2017 \n",
    "\n",
    "In my opinion, these two scatter plots are not interesting; they do not provide any further insight to our data.\n",
    "Scatter plots are used to understand the relationship between two variables. In this case we are using the scatter plot for the same variable, just looking at two consecutive years. I believe that it would make more sense to compare the variable's values over two years, in which case we would use a bar plot for comparison.\n",
    "\n",
    "The result looks like  a positive correlation, which is expected because its the same variable over two consecutive years."
   ]
  },
  {
   "cell_type": "markdown",
   "metadata": {},
   "source": [
    "#### Plot and interpret boxplots\n",
    "\n",
    "For each numeric variable in the dataframe create a boxplot using Seaborn. Boxplots demonstrate central tendency and spread in variables. In a certain sense, these are somewhat redundant with histograms, but you may be better able to identify clear outliers or differences in IQR, etc.\n",
    "\n",
    "Multiple values can be plotted to a single boxplot as long as they are of the same relative scale (meaning they have similar min/max values).\n",
    "\n",
    "Each boxplot should:\n",
    "- Only include variables of a similar scale\n",
    "- Have clear labels for each variable\n",
    "- Have appropriate titles and labels"
   ]
  },
  {
   "cell_type": "code",
   "execution_count": 83,
   "metadata": {},
   "outputs": [
    {
     "data": {
      "image/png": "[encoded data removed]",
      "text/plain": [
       "<Figure size 864x720 with 1 Axes>"
      ]
     },
     "metadata": {},
     "output_type": "display_data"
    }
   ],
   "source": [
    "plt.figure(figsize=(12, 10))\n",
    "ax = sns.boxplot(data=df.num_of_licenses)\n",
    "ax.set_title('number of licenses');"
   ]
  },
  {
   "cell_type": "code",
   "execution_count": 84,
   "metadata": {
    "scrolled": true
   },
   "outputs": [
    {
     "data": {
      "image/png": "[encoded data removed]",
      "text/plain": [
       "<Figure size 864x432 with 1 Axes>"
      ]
     },
     "metadata": {},
     "output_type": "display_data"
    }
   ],
   "source": [
    "plt.figure(figsize=(12, 6))\n",
    "ax = sns.boxplot(data=df.num_of_accidents)\n",
    "ax.set_title(\"Number of Accidents\");"
   ]
  },
  {
   "cell_type": "code",
   "execution_count": 85,
   "metadata": {},
   "outputs": [
    {
     "data": {
      "image/png": "[encoded data removed]",
      "text/plain": [
       "<Figure size 864x720 with 1 Axes>"
      ]
     },
     "metadata": {},
     "output_type": "display_data"
    }
   ],
   "source": [
    "plt.figure(figsize=(12,10))\n",
    "ax = sns.boxplot(data=df[['num_of_casualties_dead','num_of_casualties_injured']])\n",
    "ax.set_title(\"Number of Casualties Dead or Injured\");"
   ]
  },
  {
   "cell_type": "markdown",
   "metadata": {},
   "source": [
    "## Interpretation of Box Plots:   \n",
    "\n",
    "The plots illustrate the summary statisitics for each variable. It is similar to the histogram plotted earlier, but reveals more details about the range of the distribution. \n",
    "\n",
    "All the variables have a positively skewed distribution. This skewness is due to outliers; the large crowded cities Riyadh and Makkah. We can see that the line within the box, representing the median, is towards the bottom of the box because the data is skewed to the right. The second quartile is narrower than the third quartile across all variables.\n"
   ]
  },
  {
   "cell_type": "markdown",
   "metadata": {},
   "source": [
    "#### Feel free to do additional plots below\n",
    "*(do research and choose your own chart types & variables)*\n",
    "\n",
    "Are there any additional trends or relationships you haven't explored? Was there something interesting you saw that you'd like to dive further into? It's likely that there are a few more plots you might want to generate to support your narrative and recommendations that you are building toward. **As always, make sure you're interpreting your plots as you go**."
   ]
  },
  {
   "cell_type": "code",
   "execution_count": 86,
   "metadata": {},
   "outputs": [
    {
     "data": {
      "image/png": "[encoded data removed]",
      "text/plain": [
       "<Figure size 648x504 with 1 Axes>"
      ]
     },
     "metadata": {},
     "output_type": "display_data"
    }
   ],
   "source": [
    "df[['num_of_accidents']].sort_index().plot.bar(figsize=(9,7))\n",
    "plt.title('Number of Accidents per Region (2016,2017)')\n",
    "plt.xlabel('region')\n",
    "plt.ylabel('Number of Accidents')\n",
    "plt.show();"
   ]
  },
  {
   "cell_type": "markdown",
   "metadata": {},
   "source": [
    "In this Bar plot, we are investigating the number of accidents accross regions. Makkah has the highest number of accidents. When compared to the Riyadh region, the number of accidents is disproportionate to the number of licenses. Further investigation revealed that the Jeddah-Makkah road is a common source of accidents. This is discussed in more detail in the final part of this report along with a reference to support the given information."
   ]
  },
  {
   "cell_type": "code",
   "execution_count": 87,
   "metadata": {
    "scrolled": false
   },
   "outputs": [
    {
     "data": {
      "image/png": "[encoded data removed]",
      "text/plain": [
       "<Figure size 648x504 with 1 Axes>"
      ]
     },
     "metadata": {},
     "output_type": "display_data"
    }
   ],
   "source": [
    "df.groupby('region')['num_of_accidents','num_of_licenses'].mean().plot(kind='bar',figsize=(9,7))\n",
    "plt.title('Number of Accidents and Number of Licenses per Region (2016,2017)')\n",
    "plt.xlabel('region')\n",
    "plt.show();"
   ]
  },
  {
   "cell_type": "markdown",
   "metadata": {},
   "source": [
    "The bar plot above reveals the proportion of the number of accidents to the number of licenses. We can see that Makkah has the highest proportion of accidents compared to the number of licenses in the region."
   ]
  },
  {
   "cell_type": "code",
   "execution_count": 88,
   "metadata": {},
   "outputs": [
    {
     "data": {
      "image/png": "[encoded data removed]",
      "text/plain": [
       "<Figure size 576x432 with 1 Axes>"
      ]
     },
     "metadata": {},
     "output_type": "display_data"
    }
   ],
   "source": [
    "df.groupby('region').mean().plot(kind='scatter',x='num_of_licenses',y='num_of_accidents',figsize=(8,6))\n",
    "plt.title('Number of Accidents vs Number of Licenses (2016,2017)')\n",
    "plt.xlabel('Number of Licenses')\n",
    "plt.ylabel('Number of Accidents')\n",
    "plt.show();"
   ]
  },
  {
   "cell_type": "markdown",
   "metadata": {},
   "source": [
    "The scatter plot above illustrates that Makkah has the highest proportion of accidents compared to the number of licenses in the region."
   ]
  },
  {
   "cell_type": "markdown",
   "metadata": {},
   "source": [
    "## Descriptive and Inferential Statistics"
   ]
  },
  {
   "cell_type": "markdown",
   "metadata": {},
   "source": [
    "#### Summarizing Distributions\n",
    "\n",
    "Above, we used pandas `describe` to provide quick summary statistics of our numeric columns. We also demonstrated many visual relationships.\n",
    "\n",
    "As data scientists, having a complete understanding of data is imperative prior to modeling.\n",
    "\n",
    "While we will continue to build our analytic tools, we know that measures of *central tendency*, *spread*, and *shape/skewness* provide a quick summary of distributions.\n",
    "\n",
    "For each variable in your data, summarize the underlying distributions (in words & statistics)\n",
    " - Be thorough in your verbal description of these distributions.\n",
    " - Be sure to back up these summaries with statistics."
   ]
  },
  {
   "cell_type": "markdown",
   "metadata": {},
   "source": [
    "Answers:\n",
    "\n",
    "# Summary Statistics\n",
    "\n",
    "Most regions have low values accross all four variables and consistently across all years. Riyadh and Makkah on the other hand, consistently have higher values for all four variables across the given years. These two cities have a larger size and a higher population than the other cities in the sample. The result of this distribution of values is a right-skewed distribution, with one or two outliers to the right. In this case, the mean has a larger value than the median because it is effected by the presence of outliers."
   ]
  },
  {
   "cell_type": "markdown",
   "metadata": {},
   "source": [
    "### Summary Statistics for each Variable\n",
    "\n",
    "### 1- Number of Accidents:\n",
    "Most regions have low numbers of accidents per year (lower than 4000), with a median* of 13835.5 Then there are two outliers Riyadh and Makkah with accident levels above 10,000. \n",
    "The range of the values is 142348, and the standard deviation is 51442.9.\n",
    "\n",
    "### 2- Number of Injuries\n",
    "Most regions have low numbers of casualties injured by car accidents per year (lower than 5000), with a median* number of 1483.5 Then there is one outlier, Makkah, with a mean rate above 10,000.\n",
    "The range of the values is 12009, and the standard deviation is 3412.8.\n",
    "\n",
    "### 3- Number of Deaths\n",
    "Most regions have low numbers of casualty deaths by car accidents per year (lower than 1000), with a median* number of 391.0 Then there are two outliers Riyadh and Makkah with mean casualty deaths above 1000 per year. \n",
    "The range of the values is 2131, and the standard deviation is 616.\n",
    "Note that the range and spread of data for this variable is much smaller because there are less deaths caused by accidents than injuries. It is less common than the other variables therefore it has a smaller range and narrower spread across its distribution.\n",
    "\n",
    "### 4- Number of Licenses\n",
    "Most regions have low numbers of licenses issued every year , with a median* number of 16085.0 There is one outlier, Riyadh with a mean of more than 350,000 licenses per year.\n",
    "The range of the values is 493154, and the standard deviation is 124299.9."
   ]
  },
  {
   "cell_type": "code",
   "execution_count": 89,
   "metadata": {},
   "outputs": [
    {
     "data": {
      "text/html": [
       "<div>\n",
       "<style scoped>\n",
       "    .dataframe tbody tr th:only-of-type {\n",
       "        vertical-align: middle;\n",
       "    }\n",
       "\n",
       "    .dataframe tbody tr th {\n",
       "        vertical-align: top;\n",
       "    }\n",
       "\n",
       "    .dataframe thead th {\n",
       "        text-align: right;\n",
       "    }\n",
       "</style>\n",
       "<table border=\"1\" class=\"dataframe\">\n",
       "  <thead>\n",
       "    <tr style=\"text-align: right;\">\n",
       "      <th></th>\n",
       "      <th>count</th>\n",
       "      <th>mean</th>\n",
       "      <th>std</th>\n",
       "      <th>min</th>\n",
       "      <th>25%</th>\n",
       "      <th>50%</th>\n",
       "      <th>75%</th>\n",
       "      <th>max</th>\n",
       "    </tr>\n",
       "  </thead>\n",
       "  <tbody>\n",
       "    <tr>\n",
       "      <th>num_of_accidents</th>\n",
       "      <td>18.0</td>\n",
       "      <td>38877.0</td>\n",
       "      <td>51442.889217</td>\n",
       "      <td>3193.0</td>\n",
       "      <td>10276.25</td>\n",
       "      <td>13835.5</td>\n",
       "      <td>24945.0</td>\n",
       "      <td>145541.0</td>\n",
       "    </tr>\n",
       "  </tbody>\n",
       "</table>\n",
       "</div>"
      ],
      "text/plain": [
       "                  count     mean           std     min       25%      50%  \\\n",
       "num_of_accidents   18.0  38877.0  51442.889217  3193.0  10276.25  13835.5   \n",
       "\n",
       "                      75%       max  \n",
       "num_of_accidents  24945.0  145541.0  "
      ]
     },
     "execution_count": 89,
     "metadata": {},
     "output_type": "execute_result"
    }
   ],
   "source": [
    "df[['num_of_accidents']].describe().transpose()"
   ]
  },
  {
   "cell_type": "code",
   "execution_count": 90,
   "metadata": {},
   "outputs": [
    {
     "data": {
      "text/html": [
       "<div>\n",
       "<style scoped>\n",
       "    .dataframe tbody tr th:only-of-type {\n",
       "        vertical-align: middle;\n",
       "    }\n",
       "\n",
       "    .dataframe tbody tr th {\n",
       "        vertical-align: top;\n",
       "    }\n",
       "\n",
       "    .dataframe thead th {\n",
       "        text-align: right;\n",
       "    }\n",
       "</style>\n",
       "<table border=\"1\" class=\"dataframe\">\n",
       "  <thead>\n",
       "    <tr style=\"text-align: right;\">\n",
       "      <th></th>\n",
       "      <th>count</th>\n",
       "      <th>mean</th>\n",
       "      <th>std</th>\n",
       "      <th>min</th>\n",
       "      <th>25%</th>\n",
       "      <th>50%</th>\n",
       "      <th>75%</th>\n",
       "      <th>max</th>\n",
       "    </tr>\n",
       "  </thead>\n",
       "  <tbody>\n",
       "    <tr>\n",
       "      <th>num_of_casualties_injured</th>\n",
       "      <td>18.0</td>\n",
       "      <td>2902.833333</td>\n",
       "      <td>3412.83088</td>\n",
       "      <td>374.0</td>\n",
       "      <td>795.25</td>\n",
       "      <td>1483.5</td>\n",
       "      <td>3867.25</td>\n",
       "      <td>12383.0</td>\n",
       "    </tr>\n",
       "  </tbody>\n",
       "</table>\n",
       "</div>"
      ],
      "text/plain": [
       "                           count         mean         std    min     25%  \\\n",
       "num_of_casualties_injured   18.0  2902.833333  3412.83088  374.0  795.25   \n",
       "\n",
       "                              50%      75%      max  \n",
       "num_of_casualties_injured  1483.5  3867.25  12383.0  "
      ]
     },
     "execution_count": 90,
     "metadata": {},
     "output_type": "execute_result"
    }
   ],
   "source": [
    "df[['num_of_casualties_injured']].describe().transpose() "
   ]
  },
  {
   "cell_type": "code",
   "execution_count": 91,
   "metadata": {},
   "outputs": [
    {
     "data": {
      "text/html": [
       "<div>\n",
       "<style scoped>\n",
       "    .dataframe tbody tr th:only-of-type {\n",
       "        vertical-align: middle;\n",
       "    }\n",
       "\n",
       "    .dataframe tbody tr th {\n",
       "        vertical-align: top;\n",
       "    }\n",
       "\n",
       "    .dataframe thead th {\n",
       "        text-align: right;\n",
       "    }\n",
       "</style>\n",
       "<table border=\"1\" class=\"dataframe\">\n",
       "  <thead>\n",
       "    <tr style=\"text-align: right;\">\n",
       "      <th></th>\n",
       "      <th>count</th>\n",
       "      <th>mean</th>\n",
       "      <th>std</th>\n",
       "      <th>min</th>\n",
       "      <th>25%</th>\n",
       "      <th>50%</th>\n",
       "      <th>75%</th>\n",
       "      <th>max</th>\n",
       "    </tr>\n",
       "  </thead>\n",
       "  <tbody>\n",
       "    <tr>\n",
       "      <th>num_of_casualties_dead</th>\n",
       "      <td>18.0</td>\n",
       "      <td>644.333333</td>\n",
       "      <td>615.990737</td>\n",
       "      <td>112.0</td>\n",
       "      <td>241.25</td>\n",
       "      <td>391.0</td>\n",
       "      <td>761.5</td>\n",
       "      <td>2243.0</td>\n",
       "    </tr>\n",
       "  </tbody>\n",
       "</table>\n",
       "</div>"
      ],
      "text/plain": [
       "                        count        mean         std    min     25%    50%  \\\n",
       "num_of_casualties_dead   18.0  644.333333  615.990737  112.0  241.25  391.0   \n",
       "\n",
       "                          75%     max  \n",
       "num_of_casualties_dead  761.5  2243.0  "
      ]
     },
     "execution_count": 91,
     "metadata": {},
     "output_type": "execute_result"
    }
   ],
   "source": [
    "df[['num_of_casualties_dead']].describe().transpose()"
   ]
  },
  {
   "cell_type": "code",
   "execution_count": 92,
   "metadata": {},
   "outputs": [
    {
     "data": {
      "text/html": [
       "<div>\n",
       "<style scoped>\n",
       "    .dataframe tbody tr th:only-of-type {\n",
       "        vertical-align: middle;\n",
       "    }\n",
       "\n",
       "    .dataframe tbody tr th {\n",
       "        vertical-align: top;\n",
       "    }\n",
       "\n",
       "    .dataframe thead th {\n",
       "        text-align: right;\n",
       "    }\n",
       "</style>\n",
       "<table border=\"1\" class=\"dataframe\">\n",
       "  <thead>\n",
       "    <tr style=\"text-align: right;\">\n",
       "      <th></th>\n",
       "      <th>count</th>\n",
       "      <th>mean</th>\n",
       "      <th>std</th>\n",
       "      <th>min</th>\n",
       "      <th>25%</th>\n",
       "      <th>50%</th>\n",
       "      <th>75%</th>\n",
       "      <th>max</th>\n",
       "    </tr>\n",
       "  </thead>\n",
       "  <tbody>\n",
       "    <tr>\n",
       "      <th>num_of_licenses</th>\n",
       "      <td>18.0</td>\n",
       "      <td>69517.555556</td>\n",
       "      <td>124299.850286</td>\n",
       "      <td>2153.0</td>\n",
       "      <td>9586.25</td>\n",
       "      <td>16085.0</td>\n",
       "      <td>49921.5</td>\n",
       "      <td>495307.0</td>\n",
       "    </tr>\n",
       "  </tbody>\n",
       "</table>\n",
       "</div>"
      ],
      "text/plain": [
       "                 count          mean            std     min      25%      50%  \\\n",
       "num_of_licenses   18.0  69517.555556  124299.850286  2153.0  9586.25  16085.0   \n",
       "\n",
       "                     75%       max  \n",
       "num_of_licenses  49921.5  495307.0  "
      ]
     },
     "execution_count": 92,
     "metadata": {},
     "output_type": "execute_result"
    }
   ],
   "source": [
    "df[['num_of_licenses']].describe().transpose()"
   ]
  },
  {
   "cell_type": "code",
   "execution_count": 93,
   "metadata": {},
   "outputs": [
    {
     "data": {
      "text/plain": [
       "(num_of_accidents    142348\n",
       " dtype: int64, num_of_casualties_injured    12009\n",
       " dtype: int64, num_of_casualties_dead    2131\n",
       " dtype: int64, num_of_licenses    493154\n",
       " dtype: int64)"
      ]
     },
     "execution_count": 93,
     "metadata": {},
     "output_type": "execute_result"
    }
   ],
   "source": [
    "# Calculating the range for each variable\n",
    "accidents_range = df[['num_of_accidents']].max() - df[['num_of_accidents']].min()\n",
    "injured_range = df[['num_of_casualties_injured']].max() - df[['num_of_casualties_injured']].min()\n",
    "deaths_range = df[['num_of_casualties_dead']].max() - df[['num_of_casualties_dead']].min()\n",
    "licenses_range = df[['num_of_licenses']].max() - df[['num_of_licenses']].min()\n",
    "accidents_range, injured_range, deaths_range, licenses_range"
   ]
  },
  {
   "cell_type": "markdown",
   "metadata": {},
   "source": [
    "#### We generally assuming that data we sample from a population will be normally distributed. Do we observe this trend?"
   ]
  },
  {
   "cell_type": "markdown",
   "metadata": {},
   "source": [
    "Answer:\n",
    "\n",
    "According to the Central Limit Theorem (CLT), the sampling distribution of a sample mean is normally distributed, even if the underlying distribution of the original population is not normally distributed. This means that if we continue to take samples from the population, and calculate the mean of each sample, then plot those means that we got from each sample, we would get a normal distribution, and the mean of that sampling distribution is equal to the true population mean. \n",
    " \n",
    "The dataset we have (License and Traffic) are not a sampling distribution, therefore we cannot assume it is normally distributed. We plotted the data using histograms and box plots and found that it is right-skewed due to the presence of outliers."
   ]
  },
  {
   "cell_type": "markdown",
   "metadata": {},
   "source": [
    "Does This Assumption Hold for:\n",
    "    - Driving Licenses\n",
    "    - Traffic Accidents\n",
    "Explain your answers for each distribution and how you think this will affect estimates made from these data."
   ]
  },
  {
   "cell_type": "markdown",
   "metadata": {},
   "source": [
    "Answer:\n",
    "The CLT holds for the means of samples of the Driving Licenses data and Traffic Accidents data. We assume that sample means belong to a normally distributed sampling distributions. Based on the CLT, we calculate Confidence intervals based on a specified significance level. If our result is lower than the preset significance level, then our result is too rare and we assume that it does not belong to that distribution, or in other words we reject the null hypothesis."
   ]
  },
  {
   "cell_type": "markdown",
   "metadata": {},
   "source": [
    "#### Statistical Evaluation of Distributions \n",
    "\n",
    "**If you feel it's appropriate**, using methods we discussed in class, run hypothesis tests to compare variables of interest in our dataset. "
   ]
  },
  {
   "cell_type": "markdown",
   "metadata": {},
   "source": [
    "# t-test \n",
    "\n",
    "A paired t-test allows us to compare the means of two samples and test whether there is a significant difference between the two or not. The results of a t-test indicate how likely (or unlikely) it is to get the result we got, given that the null hypothesis is true. If the result is not rare enough (the result is higher than the p-value) then we have reason to reject the null hypothesis.\n",
    "\n",
    "I will run a t-test on the number of licenses issued every year during the nineties (1993 to 1999) against the number of licenses issued every year after 2010 (from 2010 to 2017).\n",
    "\n",
    "## setup the hypotheses: \n",
    "H0: the mean difference between the number of Licenses issued during the nineties and the number of Licenses issued in more recent years is zero\n",
    "\n",
    "H1: the mean difference between the number of Licenses issued during the nineties and the number of Licenses issued in more recent years is is NOT zero\n",
    " \n",
    " Significance Level = 0.05 "
   ]
  },
  {
   "cell_type": "code",
   "execution_count": 94,
   "metadata": {},
   "outputs": [
    {
     "data": {
      "text/plain": [
       "(2.646967530681919, 0.008841789206170922)"
      ]
     },
     "execution_count": 94,
     "metadata": {},
     "output_type": "execute_result"
    }
   ],
   "source": [
    "#import libraries\n",
    "from scipy import stats\n",
    "\n",
    "# Prepare samples\n",
    "past = license.loc[(slice(None),[1993,1994,1995,1996,1997,1998,1999]),:].num_of_licenses\n",
    "recent = license.loc[(slice(None),[2011,2012,2013,2014,2015,2016,2017]),:].num_of_licenses\n",
    "\n",
    "# calculate the t-statistic and p-value\n",
    "t_test_result = stats.ttest_ind(recent, past)\n",
    "t_value = t_test_result.statistic \n",
    "p_value = t_test_result.pvalue\n",
    "\n",
    "t_value , p_value"
   ]
  },
  {
   "cell_type": "code",
   "execution_count": 95,
   "metadata": {},
   "outputs": [
    {
     "data": {
      "text/plain": [
       "(0.8538092516724277, 0.8538092516724277)"
      ]
     },
     "execution_count": 95,
     "metadata": {},
     "output_type": "execute_result"
    }
   ],
   "source": [
    "left_tail = stats.t.cdf(t_value, 95, 0, 2.5)\n",
    "right_tail =  1 - stats.t.cdf(-t_value, 95, 0, 2.5)\n",
    "left_tail,right_tail"
   ]
  },
  {
   "cell_type": "code",
   "execution_count": 96,
   "metadata": {},
   "outputs": [
    {
     "data": {
      "image/png": "[encoded data removed]",
      "text/plain": [
       "<Figure size 576x360 with 1 Axes>"
      ]
     },
     "metadata": {},
     "output_type": "display_data"
    }
   ],
   "source": [
    "# let's visualize t-stat\n",
    "xpts = np.linspace(-4, 4, 500)\n",
    "ypts = stats.t.pdf(xpts, len(recent) + len(past) - 2, 0, 1)\n",
    "\n",
    "fig = plt.figure(figsize=(8, 5)) # set figure size on fig\n",
    "ax = fig.gca() # get the current axis from the figure initiated\n",
    "ax.plot(xpts, ypts, linewidth=3, color='darkred')\n",
    "ax.axvline(t_value, color='black', lw=5, linestyle='--')\n",
    "ax.axvline(-t_value, color='black', lw=5, linestyle='--')\n",
    "plt.show()"
   ]
  },
  {
   "cell_type": "markdown",
   "metadata": {},
   "source": [
    "## Conclusion:\n",
    "Our p-value 0.0088 is much smaller than the significance level of the test 0.05, therefore we reject the null hypothesis.\n",
    "According to the t-test result, there is a significant difference between the means of the two samples. The number of Licenses issued every year after 2010 is significantly larger than the mean number of Licenses issued every year during the nineties. Further investigation and more data is needed to indicate the reasons behind this increase. It could be simply due to an increase in the population of the country. It could also be that more roads were constructed, especially in the smaller regions. Urbanization and an increase in people's need to travel longer distances to work would cause more people to depend on cars as their main means of transportation. "
   ]
  },
  {
   "cell_type": "markdown",
   "metadata": {},
   "source": [
    "## Outside Research"
   ]
  },
  {
   "cell_type": "markdown",
   "metadata": {},
   "source": [
    "Based upon your observations, choose **three** regions that demonstrate interesting trends in the number of driving licenses and traffic accidents. Spend some time doing outside research on provincial and central policies that might influence these rates, and summarize your findings below. **Feel free to go back and create new plots that highlight these states of interest**. If you bring in any outside tables or charts, make sure you are explicit about having borrowed them. If you quote any text, make sure that it renders as being quoted. (Make sure that you cite your sources -- check with you local instructor for citation preferences)."
   ]
  },
  {
   "cell_type": "markdown",
   "metadata": {},
   "source": [
    "Answer:"
   ]
  },
  {
   "cell_type": "markdown",
   "metadata": {},
   "source": [
    "## Increase in Number of Driving Licenses in Riyadh\n",
    "\n",
    "We can see in the following graph that the number of licenses in 2017 is almost double the value in 2016. After searching through the MOI website, this increase could be due to the new regulation that allows women in KSA to drive. "
   ]
  },
  {
   "cell_type": "code",
   "execution_count": 97,
   "metadata": {},
   "outputs": [
    {
     "data": {
      "image/png": "[encoded data removed]",
      "text/plain": [
       "<Figure size 864x648 with 1 Axes>"
      ]
     },
     "metadata": {},
     "output_type": "display_data"
    }
   ],
   "source": [
    "license.loc['Riyadh'].sort_index().plot.bar(figsize=(12,9))\n",
    "plt.title('Number of Licenses Issued in Riyadh per Year')\n",
    "plt.xlabel('year')\n",
    "plt.ylabel('Number of Licenses')\n",
    "plt.show();"
   ]
  },
  {
   "cell_type": "markdown",
   "metadata": {},
   "source": [
    "## Decrease in the number of accidents in Riyadh\n",
    "\n",
    "We can see in the following graph that the number of accidents in Riyadh dropped by almost 30% (calculated below). After searching through the MOI and MOT website, this decrease could be due to the increase in traffic violation fines and restrictions on using cell phones while driving. Also, the Ministry of Transportaion launched the campaign \"Our Destination is Your Destination\" which aims to decrease accidents. However, there is no noticable change in the number of injured and dead casualties by car accidents according to our data, although external resources indicate a decrease in the number of casualties (the reference is provided below).\n",
    "\n",
    "\n",
    "\n",
    "#### references: \n",
    "\n",
    "https://mot.gov.sa/en-us/MediaCenter/News/Pages/news849.aspx\n",
    "http://live.saudigazette.com.sa/article/164574/New-traffic-laws-in-15-days"
   ]
  },
  {
   "cell_type": "code",
   "execution_count": 98,
   "metadata": {},
   "outputs": [
    {
     "data": {
      "text/plain": [
       "0.29499209798498616"
      ]
     },
     "execution_count": 98,
     "metadata": {},
     "output_type": "execute_result"
    }
   ],
   "source": [
    "#calculating the percentage of decrease in the number of traffic accidents in Riyadh\n",
    "accidents_2016 = 141736\n",
    "accidents_2017 = 99925\n",
    "(accidents_2016-accidents_2017)/accidents_2016"
   ]
  },
  {
   "cell_type": "code",
   "execution_count": 99,
   "metadata": {},
   "outputs": [
    {
     "data": {
      "image/png": "[encoded data removed]",
      "text/plain": [
       "<Figure size 576x432 with 1 Axes>"
      ]
     },
     "metadata": {},
     "output_type": "display_data"
    }
   ],
   "source": [
    "df.loc[('Riyadh',slice(None))][['num_of_accidents']].plot.bar(figsize=(8,6))\n",
    "plt.title('Number of Accidents in Riyadh 2016 vs 2017')\n",
    "plt.xlabel('year')\n",
    "plt.ylabel('Number of Accidents')\n",
    "plt.show();"
   ]
  },
  {
   "cell_type": "code",
   "execution_count": 100,
   "metadata": {},
   "outputs": [
    {
     "data": {
      "image/png": "[encoded data removed]",
      "text/plain": [
       "<Figure size 576x432 with 1 Axes>"
      ]
     },
     "metadata": {},
     "output_type": "display_data"
    }
   ],
   "source": [
    "df.loc[('Riyadh',slice(None))][['num_of_casualties_injured','num_of_casualties_dead']].plot.bar(figsize=(8,6))\n",
    "plt.title('Number of Injuries and Deaths Caused by Accidents in Riyadh 2016 vs 2017')\n",
    "plt.xlabel('year')\n",
    "plt.ylabel('Number of Casualties')\n",
    "plt.show();"
   ]
  },
  {
   "cell_type": "markdown",
   "metadata": {},
   "source": [
    "## Tabouk - Number of Licenses 2015\n",
    "\n",
    "There is a sudden drop in the number of driving licenses in Tabouk, 2015. I did some research on it, but unfortunately failed to find an explanation. It could be simply a mistake in recording the data due to a typing error."
   ]
  },
  {
   "cell_type": "code",
   "execution_count": 101,
   "metadata": {},
   "outputs": [
    {
     "data": {
      "image/png": "[encoded data removed]",
      "text/plain": [
       "<Figure size 864x648 with 1 Axes>"
      ]
     },
     "metadata": {},
     "output_type": "display_data"
    }
   ],
   "source": [
    "license.loc['Tabouk'].sort_index().plot.bar(figsize=(12,9))\n",
    "plt.title('Number of Licenses Issued in Riyadh per Year')\n",
    "plt.xlabel('year')\n",
    "plt.ylabel('Number of Licenses')\n",
    "plt.show();"
   ]
  },
  {
   "cell_type": "markdown",
   "metadata": {},
   "source": [
    "## Increased Number of Casualties Injured by Car Accidents in Makkah\n",
    "\n",
    "According to the plot below, Makkah has a very high number of injured casualties by accidents. It is the largest across all regions, more than Riyadh although the later has more licenses issued per year. After some research, it seems that many of the accidents in the Makkah region are due to Jeddah-Makkah road accidents.  \n",
    "reference: http://www.arabnews.com/news/502251   "
   ]
  },
  {
   "cell_type": "code",
   "execution_count": 102,
   "metadata": {},
   "outputs": [
    {
     "data": {
      "image/png": "[encoded data removed]",
      "text/plain": [
       "<Figure size 864x648 with 1 Axes>"
      ]
     },
     "metadata": {},
     "output_type": "display_data"
    }
   ],
   "source": [
    "traffic[['num_of_casualties_dead','num_of_casualties_injured']].sort_index().plot.bar(figsize=(12,9))\n",
    "plt.title('Number of Casualties Dead or Injured per Region (2016,2017)')\n",
    "plt.xlabel('region')\n",
    "plt.ylabel('Number of Casualties')\n",
    "plt.show();"
   ]
  },
  {
   "cell_type": "code",
   "execution_count": 103,
   "metadata": {},
   "outputs": [
    {
     "data": {
      "text/html": [
       "<div>\n",
       "<style scoped>\n",
       "    .dataframe tbody tr th:only-of-type {\n",
       "        vertical-align: middle;\n",
       "    }\n",
       "\n",
       "    .dataframe tbody tr th {\n",
       "        vertical-align: top;\n",
       "    }\n",
       "\n",
       "    .dataframe thead th {\n",
       "        text-align: right;\n",
       "    }\n",
       "</style>\n",
       "<table border=\"1\" class=\"dataframe\">\n",
       "  <thead>\n",
       "    <tr style=\"text-align: right;\">\n",
       "      <th></th>\n",
       "      <th></th>\n",
       "      <th>num_of_accidents</th>\n",
       "      <th>num_of_casualties_dead</th>\n",
       "      <th>num_of_casualties_injured</th>\n",
       "      <th>num_of_licenses</th>\n",
       "    </tr>\n",
       "    <tr>\n",
       "      <th>region</th>\n",
       "      <th>year</th>\n",
       "      <th></th>\n",
       "      <th></th>\n",
       "      <th></th>\n",
       "      <th></th>\n",
       "    </tr>\n",
       "  </thead>\n",
       "  <tbody>\n",
       "    <tr>\n",
       "      <th rowspan=\"2\" valign=\"top\">Makkah</th>\n",
       "      <th>2016</th>\n",
       "      <td>134838</td>\n",
       "      <td>2243</td>\n",
       "      <td>12383</td>\n",
       "      <td>136055</td>\n",
       "    </tr>\n",
       "    <tr>\n",
       "      <th>2017</th>\n",
       "      <td>145541</td>\n",
       "      <td>1641</td>\n",
       "      <td>10623</td>\n",
       "      <td>142487</td>\n",
       "    </tr>\n",
       "    <tr>\n",
       "      <th rowspan=\"2\" valign=\"top\">Riyadh</th>\n",
       "      <th>2016</th>\n",
       "      <td>141736</td>\n",
       "      <td>1430</td>\n",
       "      <td>4207</td>\n",
       "      <td>242851</td>\n",
       "    </tr>\n",
       "    <tr>\n",
       "      <th>2017</th>\n",
       "      <td>99925</td>\n",
       "      <td>1399</td>\n",
       "      <td>4540</td>\n",
       "      <td>495307</td>\n",
       "    </tr>\n",
       "  </tbody>\n",
       "</table>\n",
       "</div>"
      ],
      "text/plain": [
       "             num_of_accidents  num_of_casualties_dead  \\\n",
       "region year                                             \n",
       "Makkah 2016            134838                    2243   \n",
       "       2017            145541                    1641   \n",
       "Riyadh 2016            141736                    1430   \n",
       "       2017             99925                    1399   \n",
       "\n",
       "             num_of_casualties_injured  num_of_licenses  \n",
       "region year                                              \n",
       "Makkah 2016                      12383           136055  \n",
       "       2017                      10623           142487  \n",
       "Riyadh 2016                       4207           242851  \n",
       "       2017                       4540           495307  "
      ]
     },
     "execution_count": 103,
     "metadata": {},
     "output_type": "execute_result"
    }
   ],
   "source": [
    "# Comparison between Riyadh and Makkah\n",
    "df.loc[(['Riyadh','Makkah'],slice(None))]"
   ]
  },
  {
   "cell_type": "markdown",
   "metadata": {},
   "source": [
    "## Conclusions and Recommendations"
   ]
  },
  {
   "cell_type": "markdown",
   "metadata": {},
   "source": [
    "Answer:"
   ]
  },
  {
   "cell_type": "markdown",
   "metadata": {},
   "source": [
    "- Based on your exploration of the data, what are you key takeaways and recommendations?\n",
    "\n",
    "\n",
    "1) Driving Licenses continue to increase across the years and regions. Therefore, the government needs to make an effort to ensure that this increase is not coupled with an increase in accidents and injuries and deaths. \n",
    "\n",
    "2) According to the data for 2016 and 2017, there is a significant decrease in the number of accidents in Riyadh (29%). This decrease, according to the MOT, is a result of government efforts such as launching the campaign \"Our Destination is Your Destination\", as well as stronger regulations against speeding and cell phone use while driving. This suggests that the efforts that took place were effective. Therefore, the government should continue to work in that direction. \n",
    "\n",
    "3) The Makkah region requires more attention to understand the reasons behind the increased number of car accident casualties. Makkah has the highest number of injuries and deaths caused by car accidents across all regions, although the number of licenses in Makkah is much less than that for Riyadh. According to this research, the Jeddah-Makkah road is a common source of accidents in the region. Further investigation may reveal the causes of the accidents. For example, if more accidents take place at night, it could be an indication that the road suffers from poor visibility at night.  \n",
    "\n",
    "- Are there additional data you desire that would better inform your investigations? Yes.\n",
    "\n",
    "1) More longitudinal data about traffic and accidents would have been much more insightful. I was interested in testing the effect of 'Saher' which was implemented in 2010, but unfortunately the data is not available here. \n",
    "\n",
    "2) Information about the causes of accidents, such as speeding or using the phone while driving.\n",
    "\n",
    "3) Information about the time of the accident (day vs night, rush hour vs non-rush hour).\n",
    "\n",
    "4) Information about the person who had the accident: \n",
    "- The age group of the driver would be insightful for designing new regulations and campaigns. For example if most accidents are caused by younger ages, then campaigns should target them. \n",
    "- The nationality of the driver: If more accidents are caused by non-Saudi nationalities, perhaps this will be resolved with the expulsion of some nationalities and illegal labor from the country, as well as female drivers who would eventualy replace their foreign drivers.\n",
    "- The Gender of the driver: if more accidents are caused by females, this could be due to the infancy of the decision of permitting women to drive, and remedied by time alone."
   ]
  },
  {
   "cell_type": "code",
   "execution_count": null,
   "metadata": {},
   "outputs": [],
   "source": []
  }
 ],
 "metadata": {
  "anaconda-cloud": {},
  "kernelspec": {
   "display_name": "Python 3",
   "language": "python",
   "name": "python3"
  },
  "language_info": {
   "codemirror_mode": {
    "name": "ipython",
    "version": 3
   },
   "file_extension": ".py",
   "mimetype": "text/x-python",
   "name": "python",
   "nbconvert_exporter": "python",
   "pygments_lexer": "ipython3",
   "version": "3.6.5"
  }
 },
 "nbformat": 4,
 "nbformat_minor": 2
}
